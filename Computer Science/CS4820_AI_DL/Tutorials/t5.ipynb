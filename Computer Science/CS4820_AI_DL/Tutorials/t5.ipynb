{
 "cells": [
  {
   "cell_type": "markdown",
   "metadata": {},
   "source": [
    "### Tutorial 5: Data-preprocessing, binary classification, and model analysis"
   ]
  },
  {
   "cell_type": "code",
   "execution_count": 1,
   "metadata": {},
   "outputs": [
    {
     "data": {
      "text/html": [
       "<div>\n",
       "<style scoped>\n",
       "    .dataframe tbody tr th:only-of-type {\n",
       "        vertical-align: middle;\n",
       "    }\n",
       "\n",
       "    .dataframe tbody tr th {\n",
       "        vertical-align: top;\n",
       "    }\n",
       "\n",
       "    .dataframe thead th {\n",
       "        text-align: right;\n",
       "    }\n",
       "</style>\n",
       "<table border=\"1\" class=\"dataframe\">\n",
       "  <thead>\n",
       "    <tr style=\"text-align: right;\">\n",
       "      <th></th>\n",
       "      <th>RowNumber</th>\n",
       "      <th>CustomerId</th>\n",
       "      <th>Surname</th>\n",
       "      <th>CreditScore</th>\n",
       "      <th>Geography</th>\n",
       "      <th>Gender</th>\n",
       "      <th>Age</th>\n",
       "      <th>Tenure</th>\n",
       "      <th>Balance</th>\n",
       "      <th>NumOfProducts</th>\n",
       "      <th>HasCrCard</th>\n",
       "      <th>IsActiveMember</th>\n",
       "      <th>EstimatedSalary</th>\n",
       "      <th>Exited</th>\n",
       "    </tr>\n",
       "  </thead>\n",
       "  <tbody>\n",
       "    <tr>\n",
       "      <th>0</th>\n",
       "      <td>1</td>\n",
       "      <td>15634602</td>\n",
       "      <td>Hargrave</td>\n",
       "      <td>619</td>\n",
       "      <td>France</td>\n",
       "      <td>Female</td>\n",
       "      <td>42</td>\n",
       "      <td>2</td>\n",
       "      <td>0.00</td>\n",
       "      <td>1</td>\n",
       "      <td>1</td>\n",
       "      <td>1</td>\n",
       "      <td>101348.88</td>\n",
       "      <td>1</td>\n",
       "    </tr>\n",
       "    <tr>\n",
       "      <th>1</th>\n",
       "      <td>2</td>\n",
       "      <td>15647311</td>\n",
       "      <td>Hill</td>\n",
       "      <td>608</td>\n",
       "      <td>Spain</td>\n",
       "      <td>Female</td>\n",
       "      <td>41</td>\n",
       "      <td>1</td>\n",
       "      <td>83807.86</td>\n",
       "      <td>1</td>\n",
       "      <td>0</td>\n",
       "      <td>1</td>\n",
       "      <td>112542.58</td>\n",
       "      <td>0</td>\n",
       "    </tr>\n",
       "    <tr>\n",
       "      <th>2</th>\n",
       "      <td>3</td>\n",
       "      <td>15619304</td>\n",
       "      <td>Onio</td>\n",
       "      <td>502</td>\n",
       "      <td>France</td>\n",
       "      <td>Female</td>\n",
       "      <td>42</td>\n",
       "      <td>8</td>\n",
       "      <td>159660.80</td>\n",
       "      <td>3</td>\n",
       "      <td>1</td>\n",
       "      <td>0</td>\n",
       "      <td>113931.57</td>\n",
       "      <td>1</td>\n",
       "    </tr>\n",
       "    <tr>\n",
       "      <th>3</th>\n",
       "      <td>4</td>\n",
       "      <td>15701354</td>\n",
       "      <td>Boni</td>\n",
       "      <td>699</td>\n",
       "      <td>France</td>\n",
       "      <td>Female</td>\n",
       "      <td>39</td>\n",
       "      <td>1</td>\n",
       "      <td>0.00</td>\n",
       "      <td>2</td>\n",
       "      <td>0</td>\n",
       "      <td>0</td>\n",
       "      <td>93826.63</td>\n",
       "      <td>0</td>\n",
       "    </tr>\n",
       "    <tr>\n",
       "      <th>4</th>\n",
       "      <td>5</td>\n",
       "      <td>15737888</td>\n",
       "      <td>Mitchell</td>\n",
       "      <td>850</td>\n",
       "      <td>Spain</td>\n",
       "      <td>Female</td>\n",
       "      <td>43</td>\n",
       "      <td>2</td>\n",
       "      <td>125510.82</td>\n",
       "      <td>1</td>\n",
       "      <td>1</td>\n",
       "      <td>1</td>\n",
       "      <td>79084.10</td>\n",
       "      <td>0</td>\n",
       "    </tr>\n",
       "  </tbody>\n",
       "</table>\n",
       "</div>"
      ],
      "text/plain": [
       "   RowNumber  CustomerId   Surname  CreditScore Geography  Gender  Age  \\\n",
       "0          1    15634602  Hargrave          619    France  Female   42   \n",
       "1          2    15647311      Hill          608     Spain  Female   41   \n",
       "2          3    15619304      Onio          502    France  Female   42   \n",
       "3          4    15701354      Boni          699    France  Female   39   \n",
       "4          5    15737888  Mitchell          850     Spain  Female   43   \n",
       "\n",
       "   Tenure    Balance  NumOfProducts  HasCrCard  IsActiveMember  \\\n",
       "0       2       0.00              1          1               1   \n",
       "1       1   83807.86              1          0               1   \n",
       "2       8  159660.80              3          1               0   \n",
       "3       1       0.00              2          0               0   \n",
       "4       2  125510.82              1          1               1   \n",
       "\n",
       "   EstimatedSalary  Exited  \n",
       "0        101348.88       1  \n",
       "1        112542.58       0  \n",
       "2        113931.57       1  \n",
       "3         93826.63       0  \n",
       "4         79084.10       0  "
      ]
     },
     "execution_count": 1,
     "metadata": {},
     "output_type": "execute_result"
    }
   ],
   "source": [
    "import numpy as np\n",
    "import pandas as pd\n",
    "from sklearn.preprocessing import LabelEncoder, OneHotEncoder\n",
    "\n",
    "#data frame\n",
    "df = pd.read_csv('data/bank_customers.csv')\n",
    "df.head(5)"
   ]
  },
  {
   "cell_type": "markdown",
   "metadata": {},
   "source": [
    "## Data Preprocessing\n",
    "### removing irrelevant information"
   ]
  },
  {
   "cell_type": "code",
   "execution_count": 2,
   "metadata": {},
   "outputs": [
    {
     "name": "stdout",
     "output_type": "stream",
     "text": [
      "[[619 'France' 'Female' 42 2 0.0 1 1 1 101348.88]\n",
      " [608 'Spain' 'Female' 41 1 83807.86 1 0 1 112542.58]\n",
      " [502 'France' 'Female' 42 8 159660.8 3 1 0 113931.57]\n",
      " [699 'France' 'Female' 39 1 0.0 2 0 0 93826.63]\n",
      " [850 'Spain' 'Female' 43 2 125510.82 1 1 1 79084.1]]\n",
      "[1 0 1 0 0]\n"
     ]
    }
   ],
   "source": [
    "X = df.iloc[:, 3:13].values\n",
    "y = df.iloc[:, 13].values\n",
    "print(X[:5,:])\n",
    "print(y[:5])"
   ]
  },
  {
   "cell_type": "markdown",
   "metadata": {},
   "source": [
    "### Feature Encoding"
   ]
  },
  {
   "cell_type": "code",
   "execution_count": 3,
   "metadata": {},
   "outputs": [],
   "source": [
    "labelencoder_x_1 = LabelEncoder()\n",
    "\n",
    "X[:, 1] = labelencoder_x_1.fit_transform(X[:, 1])\n",
    "X[:, 2] = labelencoder_x_1.fit_transform(X[:, 2])"
   ]
  },
  {
   "cell_type": "code",
   "execution_count": 4,
   "metadata": {},
   "outputs": [
    {
     "name": "stdout",
     "output_type": "stream",
     "text": [
      "[[1.0000000e+00 0.0000000e+00 0.0000000e+00 6.1900000e+02 0.0000000e+00\n",
      "  4.2000000e+01 2.0000000e+00 0.0000000e+00 1.0000000e+00 1.0000000e+00\n",
      "  1.0000000e+00 1.0134888e+05]\n",
      " [0.0000000e+00 0.0000000e+00 1.0000000e+00 6.0800000e+02 0.0000000e+00\n",
      "  4.1000000e+01 1.0000000e+00 8.3807860e+04 1.0000000e+00 0.0000000e+00\n",
      "  1.0000000e+00 1.1254258e+05]\n",
      " [1.0000000e+00 0.0000000e+00 0.0000000e+00 5.0200000e+02 0.0000000e+00\n",
      "  4.2000000e+01 8.0000000e+00 1.5966080e+05 3.0000000e+00 1.0000000e+00\n",
      "  0.0000000e+00 1.1393157e+05]\n",
      " [1.0000000e+00 0.0000000e+00 0.0000000e+00 6.9900000e+02 0.0000000e+00\n",
      "  3.9000000e+01 1.0000000e+00 0.0000000e+00 2.0000000e+00 0.0000000e+00\n",
      "  0.0000000e+00 9.3826630e+04]\n",
      " [0.0000000e+00 0.0000000e+00 1.0000000e+00 8.5000000e+02 0.0000000e+00\n",
      "  4.3000000e+01 2.0000000e+00 1.2551082e+05 1.0000000e+00 1.0000000e+00\n",
      "  1.0000000e+00 7.9084100e+04]\n",
      " [0.0000000e+00 0.0000000e+00 1.0000000e+00 6.4500000e+02 1.0000000e+00\n",
      "  4.4000000e+01 8.0000000e+00 1.1375578e+05 2.0000000e+00 1.0000000e+00\n",
      "  0.0000000e+00 1.4975671e+05]\n",
      " [1.0000000e+00 0.0000000e+00 0.0000000e+00 8.2200000e+02 1.0000000e+00\n",
      "  5.0000000e+01 7.0000000e+00 0.0000000e+00 2.0000000e+00 1.0000000e+00\n",
      "  1.0000000e+00 1.0062800e+04]\n",
      " [0.0000000e+00 1.0000000e+00 0.0000000e+00 3.7600000e+02 0.0000000e+00\n",
      "  2.9000000e+01 4.0000000e+00 1.1504674e+05 4.0000000e+00 1.0000000e+00\n",
      "  0.0000000e+00 1.1934688e+05]\n",
      " [1.0000000e+00 0.0000000e+00 0.0000000e+00 5.0100000e+02 1.0000000e+00\n",
      "  4.4000000e+01 4.0000000e+00 1.4205107e+05 2.0000000e+00 0.0000000e+00\n",
      "  1.0000000e+00 7.4940500e+04]\n",
      " [1.0000000e+00 0.0000000e+00 0.0000000e+00 6.8400000e+02 1.0000000e+00\n",
      "  2.7000000e+01 2.0000000e+00 1.3460388e+05 1.0000000e+00 1.0000000e+00\n",
      "  1.0000000e+00 7.1725730e+04]]\n",
      "[[0.0000000e+00 0.0000000e+00 6.1900000e+02 0.0000000e+00 4.2000000e+01\n",
      "  2.0000000e+00 0.0000000e+00 1.0000000e+00 1.0000000e+00 1.0000000e+00\n",
      "  1.0134888e+05]\n",
      " [0.0000000e+00 1.0000000e+00 6.0800000e+02 0.0000000e+00 4.1000000e+01\n",
      "  1.0000000e+00 8.3807860e+04 1.0000000e+00 0.0000000e+00 1.0000000e+00\n",
      "  1.1254258e+05]\n",
      " [0.0000000e+00 0.0000000e+00 5.0200000e+02 0.0000000e+00 4.2000000e+01\n",
      "  8.0000000e+00 1.5966080e+05 3.0000000e+00 1.0000000e+00 0.0000000e+00\n",
      "  1.1393157e+05]\n",
      " [0.0000000e+00 0.0000000e+00 6.9900000e+02 0.0000000e+00 3.9000000e+01\n",
      "  1.0000000e+00 0.0000000e+00 2.0000000e+00 0.0000000e+00 0.0000000e+00\n",
      "  9.3826630e+04]\n",
      " [0.0000000e+00 1.0000000e+00 8.5000000e+02 0.0000000e+00 4.3000000e+01\n",
      "  2.0000000e+00 1.2551082e+05 1.0000000e+00 1.0000000e+00 1.0000000e+00\n",
      "  7.9084100e+04]\n",
      " [0.0000000e+00 1.0000000e+00 6.4500000e+02 1.0000000e+00 4.4000000e+01\n",
      "  8.0000000e+00 1.1375578e+05 2.0000000e+00 1.0000000e+00 0.0000000e+00\n",
      "  1.4975671e+05]\n",
      " [0.0000000e+00 0.0000000e+00 8.2200000e+02 1.0000000e+00 5.0000000e+01\n",
      "  7.0000000e+00 0.0000000e+00 2.0000000e+00 1.0000000e+00 1.0000000e+00\n",
      "  1.0062800e+04]\n",
      " [1.0000000e+00 0.0000000e+00 3.7600000e+02 0.0000000e+00 2.9000000e+01\n",
      "  4.0000000e+00 1.1504674e+05 4.0000000e+00 1.0000000e+00 0.0000000e+00\n",
      "  1.1934688e+05]\n",
      " [0.0000000e+00 0.0000000e+00 5.0100000e+02 1.0000000e+00 4.4000000e+01\n",
      "  4.0000000e+00 1.4205107e+05 2.0000000e+00 0.0000000e+00 1.0000000e+00\n",
      "  7.4940500e+04]\n",
      " [0.0000000e+00 0.0000000e+00 6.8400000e+02 1.0000000e+00 2.7000000e+01\n",
      "  2.0000000e+00 1.3460388e+05 1.0000000e+00 1.0000000e+00 1.0000000e+00\n",
      "  7.1725730e+04]]\n"
     ]
    },
    {
     "name": "stderr",
     "output_type": "stream",
     "text": [
      "C:\\Users\\chase\\Anaconda3\\envs\\CS4820\\lib\\site-packages\\sklearn\\preprocessing\\_encoders.py:371: FutureWarning: The handling of integer data will change in version 0.22. Currently, the categories are determined based on the range [0, max(values)], while in the future they will be determined based on the unique values.\n",
      "If you want the future behaviour and silence this warning, you can specify \"categories='auto'\".\n",
      "In case you used a LabelEncoder before this OneHotEncoder to convert the categories to integers, then you can now use the OneHotEncoder directly.\n",
      "  warnings.warn(msg, FutureWarning)\n",
      "C:\\Users\\chase\\Anaconda3\\envs\\CS4820\\lib\\site-packages\\sklearn\\preprocessing\\_encoders.py:392: DeprecationWarning: The 'categorical_features' keyword is deprecated in version 0.20 and will be removed in 0.22. You can use the ColumnTransformer instead.\n",
      "  \"use the ColumnTransformer instead.\", DeprecationWarning)\n"
     ]
    }
   ],
   "source": [
    "onehotencoder = OneHotEncoder(categorical_features = [1])\n",
    "X = onehotencoder.fit_transform(X).toarray()\n",
    "print(X[:10,:])\n",
    "X = X[:, 1:]\n",
    "print(X[:10,:])"
   ]
  },
  {
   "cell_type": "markdown",
   "metadata": {},
   "source": [
    "### Feature Scaling"
   ]
  },
  {
   "cell_type": "code",
   "execution_count": 5,
   "metadata": {},
   "outputs": [
    {
     "data": {
      "text/plain": [
       "array([[-0.57873591, -0.57380915, -0.32622142, ...,  0.64609167,\n",
       "         0.97024255,  0.02188649],\n",
       "       [-0.57873591,  1.74273971, -0.44003595, ..., -1.54776799,\n",
       "         0.97024255,  0.21653375],\n",
       "       [-0.57873591, -0.57380915, -1.53679418, ...,  0.64609167,\n",
       "        -1.03067011,  0.2406869 ],\n",
       "       ...,\n",
       "       [-0.57873591, -0.57380915,  0.60498839, ..., -1.54776799,\n",
       "         0.97024255, -1.00864308],\n",
       "       [ 1.72790383, -0.57380915,  1.25683526, ...,  0.64609167,\n",
       "        -1.03067011, -0.12523071],\n",
       "       [-0.57873591, -0.57380915,  1.46377078, ...,  0.64609167,\n",
       "        -1.03067011, -1.07636976]])"
      ]
     },
     "execution_count": 5,
     "metadata": {},
     "output_type": "execute_result"
    }
   ],
   "source": [
    "from sklearn.preprocessing import StandardScaler\n",
    "\n",
    "sc = StandardScaler()\n",
    "X = sc.fit_transform(X)\n",
    "X"
   ]
  },
  {
   "cell_type": "markdown",
   "metadata": {},
   "source": [
    "### Splitting dataset into training and testing sets"
   ]
  },
  {
   "cell_type": "code",
   "execution_count": 6,
   "metadata": {},
   "outputs": [
    {
     "name": "stdout",
     "output_type": "stream",
     "text": [
      "(8000, 11)\n",
      "(8000,)\n"
     ]
    }
   ],
   "source": [
    "from sklearn.model_selection import train_test_split\n",
    "\n",
    "X_train, X_test, y_train, y_test = train_test_split(X, y, test_size=0.2,random_state=0, stratify=y )\n",
    "print(X_train.shape)\n",
    "print(y_train.shape)"
   ]
  },
  {
   "cell_type": "markdown",
   "metadata": {},
   "source": [
    "## Binary-Classification model"
   ]
  },
  {
   "cell_type": "code",
   "execution_count": 7,
   "metadata": {},
   "outputs": [
    {
     "name": "stdout",
     "output_type": "stream",
     "text": [
      "Epoch 1/50\n",
      "8000/8000 - 1s - loss: 0.4513 - accuracy: 0.8018\n",
      "Epoch 2/50\n",
      "8000/8000 - 1s - loss: 0.3969 - accuracy: 0.8305\n",
      "Epoch 3/50\n",
      "8000/8000 - 1s - loss: 0.3662 - accuracy: 0.8497\n",
      "Epoch 4/50\n",
      "8000/8000 - 1s - loss: 0.3505 - accuracy: 0.8580\n",
      "Epoch 5/50\n",
      "8000/8000 - 1s - loss: 0.3437 - accuracy: 0.8619\n",
      "Epoch 6/50\n",
      "8000/8000 - 1s - loss: 0.3410 - accuracy: 0.8594\n",
      "Epoch 7/50\n",
      "8000/8000 - 1s - loss: 0.3378 - accuracy: 0.8630\n",
      "Epoch 8/50\n",
      "8000/8000 - 1s - loss: 0.3360 - accuracy: 0.8631\n",
      "Epoch 9/50\n",
      "8000/8000 - 1s - loss: 0.3344 - accuracy: 0.8629\n",
      "Epoch 10/50\n",
      "8000/8000 - 2s - loss: 0.3329 - accuracy: 0.8624\n",
      "Epoch 11/50\n",
      "8000/8000 - 2s - loss: 0.3315 - accuracy: 0.8626\n",
      "Epoch 12/50\n",
      "8000/8000 - 2s - loss: 0.3301 - accuracy: 0.8646\n",
      "Epoch 13/50\n",
      "8000/8000 - 1s - loss: 0.3286 - accuracy: 0.8665\n",
      "Epoch 14/50\n",
      "8000/8000 - 2s - loss: 0.3272 - accuracy: 0.8668\n",
      "Epoch 15/50\n",
      "8000/8000 - 2s - loss: 0.3247 - accuracy: 0.8640\n",
      "Epoch 16/50\n",
      "8000/8000 - 1s - loss: 0.3243 - accuracy: 0.8660\n",
      "Epoch 17/50\n",
      "8000/8000 - 1s - loss: 0.3238 - accuracy: 0.8661\n",
      "Epoch 18/50\n",
      "8000/8000 - 1s - loss: 0.3238 - accuracy: 0.8660\n",
      "Epoch 19/50\n",
      "8000/8000 - 1s - loss: 0.3219 - accuracy: 0.8673\n",
      "Epoch 20/50\n",
      "8000/8000 - 1s - loss: 0.3206 - accuracy: 0.8676\n",
      "Epoch 21/50\n",
      "8000/8000 - 1s - loss: 0.3199 - accuracy: 0.8675\n",
      "Epoch 22/50\n",
      "8000/8000 - 1s - loss: 0.3189 - accuracy: 0.8698\n",
      "Epoch 23/50\n",
      "8000/8000 - 1s - loss: 0.3186 - accuracy: 0.8698\n",
      "Epoch 24/50\n",
      "8000/8000 - 1s - loss: 0.3173 - accuracy: 0.8684\n",
      "Epoch 25/50\n",
      "8000/8000 - 1s - loss: 0.3170 - accuracy: 0.8684\n",
      "Epoch 26/50\n",
      "8000/8000 - 1s - loss: 0.3164 - accuracy: 0.8683\n",
      "Epoch 27/50\n",
      "8000/8000 - 1s - loss: 0.3151 - accuracy: 0.8698\n",
      "Epoch 28/50\n",
      "8000/8000 - 1s - loss: 0.3148 - accuracy: 0.8695\n",
      "Epoch 29/50\n",
      "8000/8000 - 1s - loss: 0.3140 - accuracy: 0.8683\n",
      "Epoch 30/50\n",
      "8000/8000 - 1s - loss: 0.3124 - accuracy: 0.8695\n",
      "Epoch 31/50\n",
      "8000/8000 - 1s - loss: 0.3116 - accuracy: 0.8715\n",
      "Epoch 32/50\n",
      "8000/8000 - 1s - loss: 0.3120 - accuracy: 0.8696\n",
      "Epoch 33/50\n",
      "8000/8000 - 1s - loss: 0.3113 - accuracy: 0.8690\n",
      "Epoch 34/50\n",
      "8000/8000 - 1s - loss: 0.3108 - accuracy: 0.8726\n",
      "Epoch 35/50\n",
      "8000/8000 - 1s - loss: 0.3090 - accuracy: 0.8716\n",
      "Epoch 36/50\n",
      "8000/8000 - 1s - loss: 0.3090 - accuracy: 0.8721\n",
      "Epoch 37/50\n",
      "8000/8000 - 1s - loss: 0.3091 - accuracy: 0.8716\n",
      "Epoch 38/50\n",
      "8000/8000 - 1s - loss: 0.3076 - accuracy: 0.8735\n",
      "Epoch 39/50\n",
      "8000/8000 - 1s - loss: 0.3080 - accuracy: 0.8710\n",
      "Epoch 40/50\n",
      "8000/8000 - 1s - loss: 0.3068 - accuracy: 0.8733\n",
      "Epoch 41/50\n",
      "8000/8000 - 1s - loss: 0.3054 - accuracy: 0.8751\n",
      "Epoch 42/50\n",
      "8000/8000 - 1s - loss: 0.3062 - accuracy: 0.8742\n",
      "Epoch 43/50\n",
      "8000/8000 - 1s - loss: 0.3050 - accuracy: 0.8730\n",
      "Epoch 44/50\n",
      "8000/8000 - 1s - loss: 0.3046 - accuracy: 0.8731\n",
      "Epoch 45/50\n",
      "8000/8000 - 1s - loss: 0.3038 - accuracy: 0.8773\n",
      "Epoch 46/50\n",
      "8000/8000 - 1s - loss: 0.3039 - accuracy: 0.8774\n",
      "Epoch 47/50\n",
      "8000/8000 - 1s - loss: 0.3037 - accuracy: 0.8748\n",
      "Epoch 48/50\n",
      "8000/8000 - 1s - loss: 0.3028 - accuracy: 0.8756\n",
      "Epoch 49/50\n",
      "8000/8000 - 1s - loss: 0.3019 - accuracy: 0.8750\n",
      "Epoch 50/50\n",
      "8000/8000 - 1s - loss: 0.3012 - accuracy: 0.8751\n"
     ]
    },
    {
     "data": {
      "text/plain": [
       "<tensorflow.python.keras.callbacks.History at 0x210678be208>"
      ]
     },
     "execution_count": 7,
     "metadata": {},
     "output_type": "execute_result"
    }
   ],
   "source": [
    "from tensorflow.keras.models import Sequential\n",
    "from tensorflow.keras.layers import Dense\n",
    "from tensorflow.keras.optimizers import Adam\n",
    "\n",
    "model = Sequential()\n",
    "model.add(Dense(32, input_shape=(11,), activation='relu'))\n",
    "model.add(Dense(8, activation='relu'))\n",
    "model.add(Dense(1, activation='sigmoid'))\n",
    "model.compile(optimizer = 'Adam',\n",
    "              loss='binary_crossentropy',\n",
    "              metrics=['accuracy'])\n",
    "\n",
    "model.fit(X_train, y_train, epochs=50, verbose=2, batch_size=10)"
   ]
  },
  {
   "cell_type": "markdown",
   "metadata": {},
   "source": [
    "## Analysis"
   ]
  },
  {
   "cell_type": "code",
   "execution_count": 10,
   "metadata": {},
   "outputs": [
    {
     "name": "stdout",
     "output_type": "stream",
     "text": [
      "              precision    recall  f1-score   support\n",
      "\n",
      "           0       0.87      0.95      0.91      1593\n",
      "           1       0.71      0.45      0.55       407\n",
      "\n",
      "   micro avg       0.85      0.85      0.85      2000\n",
      "   macro avg       0.79      0.70      0.73      2000\n",
      "weighted avg       0.84      0.85      0.84      2000\n",
      "\n"
     ]
    }
   ],
   "source": [
    "from sklearn.metrics import classification_report\n",
    "\n",
    "y_pred = model.predict(X_test) \n",
    "y_pred = (y_pred > 0.5)\n",
    "\n",
    "print(classification_report(y_test, y_pred))"
   ]
  },
  {
   "cell_type": "code",
   "execution_count": 42,
   "metadata": {},
   "outputs": [
    {
     "data": {
      "text/html": [
       "<div>\n",
       "<style scoped>\n",
       "    .dataframe tbody tr th:only-of-type {\n",
       "        vertical-align: middle;\n",
       "    }\n",
       "\n",
       "    .dataframe tbody tr th {\n",
       "        vertical-align: top;\n",
       "    }\n",
       "\n",
       "    .dataframe thead th {\n",
       "        text-align: right;\n",
       "    }\n",
       "</style>\n",
       "<table border=\"1\" class=\"dataframe\">\n",
       "  <thead>\n",
       "    <tr style=\"text-align: right;\">\n",
       "      <th></th>\n",
       "      <th>0</th>\n",
       "      <th>1</th>\n",
       "    </tr>\n",
       "  </thead>\n",
       "  <tbody>\n",
       "    <tr>\n",
       "      <th>0</th>\n",
       "      <td>1520</td>\n",
       "      <td>73</td>\n",
       "    </tr>\n",
       "    <tr>\n",
       "      <th>1</th>\n",
       "      <td>202</td>\n",
       "      <td>205</td>\n",
       "    </tr>\n",
       "  </tbody>\n",
       "</table>\n",
       "</div>"
      ],
      "text/plain": [
       "      0    1\n",
       "0  1520   73\n",
       "1   202  205"
      ]
     },
     "execution_count": 42,
     "metadata": {},
     "output_type": "execute_result"
    }
   ],
   "source": [
    "from sklearn.metrics import accuracy_score, confusion_matrix\n",
    "import matplotlib.pyplot as plt\n",
    "\n",
    "cm = confusion_matrix(y_test, y_pred)\n",
    "\n",
    "pd.DataFrame(cm)"
   ]
  },
  {
   "cell_type": "code",
   "execution_count": 43,
   "metadata": {},
   "outputs": [
    {
     "data": {
      "text/plain": [
       "<matplotlib.image.AxesImage at 0x221c105e108>"
      ]
     },
     "execution_count": 43,
     "metadata": {},
     "output_type": "execute_result"
    },
    {
     "data": {
      "image/png": "[encoded data removed]",
      "text/plain": [
       "<Figure size 432x288 with 1 Axes>"
      ]
     },
     "metadata": {
      "needs_background": "light"
     },
     "output_type": "display_data"
    }
   ],
   "source": [
    "plt.imshow(cm, cmap='Blues')\n"
   ]
  }
 ],
 "metadata": {
  "kernelspec": {
   "display_name": "Python 3",
   "language": "python",
   "name": "python3"
  },
  "language_info": {
   "codemirror_mode": {
    "name": "ipython",
    "version": 3
   },
   "file_extension": ".py",
   "mimetype": "text/x-python",
   "name": "python",
   "nbconvert_exporter": "python",
   "pygments_lexer": "ipython3",
   "version": "3.7.4"
  }
 },
 "nbformat": 4,
 "nbformat_minor": 2
}
