{
 "cells": [
  {
   "cell_type": "markdown",
   "metadata": {
    "button": false,
    "new_sheet": false,
    "run_control": {
     "read_only": false
    }
   },
   "source": [
    "# CS 4820\n",
    "# Tutorial 1: Numpy and other related modules"
   ]
  },
  {
   "cell_type": "markdown",
   "metadata": {
    "button": false,
    "new_sheet": false,
    "run_control": {
     "read_only": false
    }
   },
   "source": [
    "### 1. Numpy"
   ]
  },
  {
   "cell_type": "markdown",
   "metadata": {},
   "source": [
    "At their core, Artificial Neural Networks are mathematical functions. The workhorse library used industry-wide is `numpy`. [`numpy`](https://www.numpy.org/) is a Python library that contains many mathematical functions, particularly around working with arrays of numbers.\n",
    "\n",
    "For instance, `numpy` contains functions for:\n",
    "* vector math\n",
    "* matrix math\n",
    "* operations optimized for number arrays\n",
    "\n",
    "While we'll use higher-level libraries such as `Tensorflow` and `Keras` for Deep Learning a lot in this course, being familiar with and proficient in using `numpy` is a core skill we'll need to build (and evaluate) our neural networks. Also, while `numpy` is a comprehensive library, there are only a few key functions that we will use over and over again. We'll cover each new function as it comes up, so let's dive in and try out a few basic operations."
   ]
  },
  {
   "cell_type": "markdown",
   "metadata": {},
   "source": [
    "#### 1.1. Basic Operations"
   ]
  },
  {
   "cell_type": "markdown",
   "metadata": {},
   "source": [
    "The first thing we need to do to use `numpy` is `import` it into our workspace:"
   ]
  },
  {
   "cell_type": "code",
   "execution_count": 1,
   "metadata": {
    "button": false,
    "new_sheet": false,
    "run_control": {
     "read_only": false
    }
   },
   "outputs": [],
   "source": [
    "import numpy as np\n",
    "\n",
    "# allow multiple outputs be displayed for each cell\n",
    "from IPython.core.interactiveshell import InteractiveShell\n",
    "InteractiveShell.ast_node_interactivity = \"all\""
   ]
  },
  {
   "cell_type": "markdown",
   "metadata": {
    "button": false,
    "new_sheet": false,
    "run_control": {
     "read_only": false
    }
   },
   "source": [
    "> TIP: If you get an error message similar to the following one, don't worry.\n",
    ">\n",
    "> ```python\n",
    "> ---------------------------------------------------------------------------\n",
    "> ImportError                               Traceback (most recent call last)\n",
    "> <ipython-input-1-4ee716103900> in <module>()\n",
    "> ----> 1 import numpy as np\n",
    ">\n",
    "> ImportError: No module named 'numpy'\n",
    "> ```\n",
    "> Python error messages may not seem very easy to navigate, but it is actually quite simple. To understand the error, I suggest reading from the bottom up. Usually the last line is the most informative. Here it says: `ImportError`, so it looks like it didn't find the module called `numpy`. This could be due to many reasons, but it probably indicates that either you didn't install numpy or you didn't activate the conda environment. Please refer back to the installation section and make sure you have activated the environment before starting `jupyter notebook`."
   ]
  },
  {
   "cell_type": "markdown",
   "metadata": {
    "button": false,
    "new_sheet": false,
    "run_control": {
     "read_only": false
    }
   },
   "source": [
    "Using numpy, let's create a simple 1-D array:"
   ]
  },
  {
   "cell_type": "code",
   "execution_count": 2,
   "metadata": {
    "button": false,
    "new_sheet": false,
    "run_control": {
     "read_only": false
    }
   },
   "outputs": [],
   "source": [
    "a = np.array([1, 3, 2, 4])"
   ]
  },
  {
   "cell_type": "markdown",
   "metadata": {
    "button": false,
    "new_sheet": false,
    "run_control": {
     "read_only": false
    }
   },
   "source": [
    "Here we've created a 1-dimensional array containing four numbers. We can evaluate `a` to see the current values:"
   ]
  },
  {
   "cell_type": "code",
   "execution_count": 3,
   "metadata": {
    "button": false,
    "new_sheet": false,
    "run_control": {
     "read_only": false
    }
   },
   "outputs": [
    {
     "data": {
      "text/plain": [
       "array([1, 3, 2, 4])"
      ]
     },
     "execution_count": 3,
     "metadata": {},
     "output_type": "execute_result"
    }
   ],
   "source": [
    "a"
   ]
  },
  {
   "cell_type": "markdown",
   "metadata": {
    "button": false,
    "new_sheet": false,
    "run_control": {
     "read_only": false
    }
   },
   "source": [
    "Note that the type of `a` is `numpy.ndarray`. The documentation for this type is available [here](https://docs.scipy.org/doc/numpy/reference/arrays.ndarray.html)."
   ]
  },
  {
   "cell_type": "code",
   "execution_count": 8,
   "metadata": {
    "button": false,
    "new_sheet": false,
    "run_control": {
     "read_only": false
    }
   },
   "outputs": [
    {
     "data": {
      "text/plain": [
       "numpy.ndarray"
      ]
     },
     "execution_count": 8,
     "metadata": {},
     "output_type": "execute_result"
    }
   ],
   "source": [
    "type(a)"
   ]
  },
  {
   "cell_type": "markdown",
   "metadata": {
    "button": false,
    "new_sheet": false,
    "run_control": {
     "read_only": false
    }
   },
   "source": [
    "> TIP: Jupyter Notebook is a great interactive environment, and it allows to access the documentation for each object loaded in memory. Just append a question mark to any variable in our notebook and execute the cell.\n",
    "> For example, in the next cell, type:\n",
    ">```python\n",
    ">a?\n",
    ">```\n",
    ">and then run it. It opens a pane in the bottom with the documentation for the object `a`. This trick works with any object in the notebook. Pretty awesome! Press escape to dismiss the panel at the bottom."
   ]
  },
  {
   "cell_type": "markdown",
   "metadata": {
    "button": false,
    "new_sheet": false,
    "run_control": {
     "read_only": false
    }
   },
   "source": [
    "Let's create two more arrays, a 2-D and a 3-D array:"
   ]
  },
  {
   "cell_type": "code",
   "execution_count": 9,
   "metadata": {
    "button": false,
    "new_sheet": false,
    "run_control": {
     "read_only": false
    }
   },
   "outputs": [],
   "source": [
    "b = np.array([[8, 5, 6, 1],\n",
    "              [4, 3, 0, 7],\n",
    "              [1, 3, 2, 9]])\n",
    "\n",
    "c = np.array([[[1, 2, 3],\n",
    "               [4, 3, 6]],\n",
    "              [[8, 5, 1],\n",
    "               [5, 2, 7]],\n",
    "              [[0, 4, 5],\n",
    "               [8, 9, 1]],\n",
    "              [[1, 2, 6],\n",
    "               [3, 7, 4]]])"
   ]
  },
  {
   "cell_type": "markdown",
   "metadata": {
    "button": false,
    "new_sheet": false,
    "run_control": {
     "read_only": false
    }
   },
   "source": [
    "Again we can evaluate them to check that they are indeed what we expect them to be:"
   ]
  },
  {
   "cell_type": "code",
   "execution_count": 10,
   "metadata": {
    "button": false,
    "new_sheet": false,
    "run_control": {
     "read_only": false
    }
   },
   "outputs": [
    {
     "data": {
      "text/plain": [
       "array([[8, 5, 6, 1],\n",
       "       [4, 3, 0, 7],\n",
       "       [1, 3, 2, 9]])"
      ]
     },
     "execution_count": 10,
     "metadata": {},
     "output_type": "execute_result"
    }
   ],
   "source": [
    "b"
   ]
  },
  {
   "cell_type": "code",
   "execution_count": 14,
   "metadata": {
    "button": false,
    "new_sheet": false,
    "run_control": {
     "read_only": false
    }
   },
   "outputs": [
    {
     "data": {
      "text/plain": [
       "array([[[1, 2, 3],\n",
       "        [4, 3, 6]],\n",
       "\n",
       "       [[8, 5, 1],\n",
       "        [5, 2, 7]],\n",
       "\n",
       "       [[0, 4, 5],\n",
       "        [8, 9, 1]],\n",
       "\n",
       "       [[1, 2, 6],\n",
       "        [3, 7, 4]]])"
      ]
     },
     "execution_count": 14,
     "metadata": {},
     "output_type": "execute_result"
    }
   ],
   "source": [
    "c"
   ]
  },
  {
   "cell_type": "markdown",
   "metadata": {
    "button": false,
    "new_sheet": false,
    "run_control": {
     "read_only": false
    }
   },
   "source": [
    "In mathematical terms, we can think of the 1-D array as a _vector_, the 2-D array as a _matrix_ and the 3-D array as a tensor of order 3."
   ]
  },
  {
   "cell_type": "markdown",
   "metadata": {
    "button": false,
    "new_sheet": false,
    "run_control": {
     "read_only": false
    }
   },
   "source": [
    "\n",
    "> TIP: **What is a Tensor?** \n",
    ">\n",
    "> We will encounter tensors later in the course and we will give a more precise definition of them then. \n",
    "> For the time being, we can think of a Tensor as a more general version of a matrix, which can have more than two indices for its elements. Another useful way to think of tensors is to imagine them as a list of arrays of equal shape."
   ]
  },
  {
   "cell_type": "markdown",
   "metadata": {
    "button": false,
    "new_sheet": false,
    "run_control": {
     "read_only": false
    }
   },
   "source": [
    "Numpy arrays are objects, which means they have attributes and methods. A useful property is `shape`, which tells us the number of elements in each dimension of the array:"
   ]
  },
  {
   "cell_type": "code",
   "execution_count": 15,
   "metadata": {
    "button": false,
    "new_sheet": false,
    "run_control": {
     "read_only": false
    }
   },
   "outputs": [
    {
     "data": {
      "text/plain": [
       "(4,)"
      ]
     },
     "execution_count": 15,
     "metadata": {},
     "output_type": "execute_result"
    }
   ],
   "source": [
    "a.shape"
   ]
  },
  {
   "cell_type": "markdown",
   "metadata": {
    "button": false,
    "new_sheet": false,
    "run_control": {
     "read_only": false
    }
   },
   "source": [
    "Python here tells us the object has four items along the first axis. The trailing comma is needed in Python to indicate that the purpose is a _tuple_ with only one element.\n",
    "\n",
    "> TIP: In Python, if we write `(4)`, this is interpreted as the number `4` surrounded by parentheses, and parentheses are ignored. Typing `(4,)` is interpreted as a tuple with a single element: the number 4.\n",
    "> If the tuple contains more than one element, like `(3, 4)` we can omit the trailing comma.\n",
    "\n",
    "__Very commonly, we need to create one horizontal row of values and/or one vertical column of values.__ Since the concepts of rows and columns only exist in a 2-D system, to create a row, do the following:"
   ]
  },
  {
   "cell_type": "code",
   "execution_count": 16,
   "metadata": {},
   "outputs": [
    {
     "data": {
      "text/plain": [
       "array([[10, 20, 30]])"
      ]
     },
     "execution_count": 16,
     "metadata": {},
     "output_type": "execute_result"
    },
    {
     "data": {
      "text/plain": [
       "(1, 3)"
      ]
     },
     "execution_count": 16,
     "metadata": {},
     "output_type": "execute_result"
    }
   ],
   "source": [
    "row=np.array([[10, 20, 30]])\n",
    "row\n",
    "row.shape"
   ]
  },
  {
   "cell_type": "markdown",
   "metadata": {},
   "source": [
    "and to create a column:"
   ]
  },
  {
   "cell_type": "code",
   "execution_count": 17,
   "metadata": {},
   "outputs": [
    {
     "data": {
      "text/plain": [
       "array([[10],\n",
       "       [20],\n",
       "       [30]])"
      ]
     },
     "execution_count": 17,
     "metadata": {},
     "output_type": "execute_result"
    },
    {
     "data": {
      "text/plain": [
       "(3, 1)"
      ]
     },
     "execution_count": 17,
     "metadata": {},
     "output_type": "execute_result"
    }
   ],
   "source": [
    "column=np.array([[10], [20], [30]])\n",
    "column\n",
    "column.shape"
   ]
  },
  {
   "cell_type": "markdown",
   "metadata": {
    "button": false,
    "new_sheet": false,
    "run_control": {
     "read_only": false
    }
   },
   "source": [
    "#### 1.2. Tab tricks"
   ]
  },
  {
   "cell_type": "markdown",
   "metadata": {},
   "source": [
    "##### Trick 1: Tab completion"
   ]
  },
  {
   "cell_type": "markdown",
   "metadata": {},
   "source": [
    "In Jupyter Notebook we can type faster by using the `tab` key to complete the name of any variable we previously created. So, for example, if somewhere along our code we have created a variable called `verylongclumsynamevariable` and we need to use it again, we can simply start typing `ver` and hit `tab` to see the possible completions, including our long and clumsy variable.\n",
    "\n",
    "> TIP: try to use meaningful and short variable names, to make your code more readable."
   ]
  },
  {
   "cell_type": "markdown",
   "metadata": {},
   "source": [
    "##### Trick 2: Methods & Attributes"
   ]
  },
  {
   "cell_type": "markdown",
   "metadata": {},
   "source": [
    "In Jupyter Notebook, we can hit `tab` after the dot `.` to know which methods and attributes are accessible for a specific object. For example, try typing\n",
    "\n",
    "```\n",
    "a.\n",
    "```"
   ]
  },
  {
   "cell_type": "markdown",
   "metadata": {},
   "source": [
    "and then hit `tab`. You will notice that a small window pops up with all the methods and attributes available for the object `a`. This looks like:\n",
    "\n",
    "![Methods pop-up pressing DOT+TAB](./assets/dot_tab.png)\n",
    "\n",
    "This is very handy if we are looking for inspiration about what `a` can do."
   ]
  },
  {
   "cell_type": "markdown",
   "metadata": {},
   "source": [
    "##### Trick 3: Documentation pop-up"
   ]
  },
  {
   "cell_type": "markdown",
   "metadata": {},
   "source": [
    "Let's go ahead and select `a.argmax` from the tab menu by hitting `enter`. It is a method, and we can quickly find how it works. Let's open a **round parenthesis `a.argmax(`** and let's hit **`SHIFT+TAB+TAB`** (that is `TAB` two times in a row while holding down `SHIFT`). This will open a pop-up window with the documentation of the `argmax` function.\n",
    "\n",
    "![Access documentation with SHIFT+SHIFT+TAB](./assets/argmaxdoc.png)\n",
    "\n",
    "Here you can read how the function works, which inputs it requires and what outputs it returns. Pretty nice!"
   ]
  },
  {
   "cell_type": "markdown",
   "metadata": {
    "button": false,
    "new_sheet": false,
    "run_control": {
     "read_only": false
    }
   },
   "source": [
    "Let's look at the shape of `b`:"
   ]
  },
  {
   "cell_type": "code",
   "execution_count": 18,
   "metadata": {
    "button": false,
    "new_sheet": false,
    "run_control": {
     "read_only": false
    }
   },
   "outputs": [
    {
     "data": {
      "text/plain": [
       "(3, 4)"
      ]
     },
     "execution_count": 18,
     "metadata": {},
     "output_type": "execute_result"
    }
   ],
   "source": [
    "b.shape"
   ]
  },
  {
   "cell_type": "markdown",
   "metadata": {
    "button": false,
    "new_sheet": false,
    "run_control": {
     "read_only": false
    }
   },
   "source": [
    "Since `b` is a 2-dimensional array, the attribute `.shape` has two elements one for each of the two axes of the matrix. In this particular case, we have a matrix with three rows and four columns or a 3x4 matrix."
   ]
  },
  {
   "cell_type": "markdown",
   "metadata": {
    "button": false,
    "new_sheet": false,
    "run_control": {
     "read_only": false
    }
   },
   "source": [
    "Let's look at the shape of `c`:"
   ]
  },
  {
   "cell_type": "code",
   "execution_count": 19,
   "metadata": {
    "button": false,
    "new_sheet": false,
    "run_control": {
     "read_only": false
    }
   },
   "outputs": [
    {
     "data": {
      "text/plain": [
       "(4, 2, 3)"
      ]
     },
     "execution_count": 19,
     "metadata": {},
     "output_type": "execute_result"
    }
   ],
   "source": [
    "c.shape"
   ]
  },
  {
   "cell_type": "markdown",
   "metadata": {
    "button": false,
    "new_sheet": false,
    "run_control": {
     "read_only": false
    }
   },
   "source": [
    "`c` has three dimensions. Notice how the last element indicates the length of the innermost axis. In fact `shape` is a tuple, whose elements indicate the lengths of the axes, starting from the outermost one.\n",
    "\n",
    "> TIP: __Knowing how to navigate the shape of an `ndarray` is essential for the work we will encounter later: from being able to perform a dot product between weights and inputs in a model, to correctly reshaping images when feeding them to a Convolutional Neural Network.__"
   ]
  },
  {
   "cell_type": "markdown",
   "metadata": {
    "button": false,
    "new_sheet": false,
    "run_control": {
     "read_only": false
    }
   },
   "source": [
    "#### 1.3. Selection"
   ]
  },
  {
   "cell_type": "markdown",
   "metadata": {
    "button": false,
    "new_sheet": false,
    "run_control": {
     "read_only": false
    }
   },
   "source": [
    "Now that we know how to _create_ arrays, we also need to know how to extract data out of them. You can access elements of an array using the square brackets. For example, we can select the first element in a by doing:"
   ]
  },
  {
   "cell_type": "code",
   "execution_count": 20,
   "metadata": {
    "button": false,
    "new_sheet": false,
    "run_control": {
     "read_only": false
    }
   },
   "outputs": [
    {
     "data": {
      "text/plain": [
       "1"
      ]
     },
     "execution_count": 20,
     "metadata": {},
     "output_type": "execute_result"
    }
   ],
   "source": [
    "a[0]"
   ]
  },
  {
   "cell_type": "markdown",
   "metadata": {
    "button": false,
    "new_sheet": false,
    "run_control": {
     "read_only": false
    }
   },
   "source": [
    "Remember that `numpy` indices start from `0` and the element at any particular index can be found by `n-1`. For instance, you access the first element by referencing the cell at `a[0]` and the second element at `a[1]`. \n",
    "\n",
    "Uncomment the next line and select the second element of `b`."
   ]
  },
  {
   "cell_type": "code",
   "execution_count": 23,
   "metadata": {
    "button": false,
    "new_sheet": false,
    "run_control": {
     "read_only": false
    }
   },
   "outputs": [],
   "source": [
    "# arr = np.array([4, 3, 0, 7])\n",
    "# assert (second element of arr)"
   ]
  },
  {
   "cell_type": "markdown",
   "metadata": {
    "button": false,
    "new_sheet": false,
    "run_control": {
     "read_only": false
    }
   },
   "source": [
    "__<span style=\"color:red\">Unlike accessing arrays in, say, JavaScript, `numpy` arrays have a powerful selection notation that you can use to read data in a variety of ways.__</span>\n",
    "\n",
    "For instance, we can use commas to _select along multiple axes_. For example, here's how we can get the first sub-element of the third element in `c`:"
   ]
  },
  {
   "cell_type": "code",
   "execution_count": 27,
   "metadata": {
    "button": false,
    "new_sheet": false,
    "run_control": {
     "read_only": false
    }
   },
   "outputs": [
    {
     "data": {
      "text/plain": [
       "array([[[1, 2, 3],\n",
       "        [4, 3, 6]],\n",
       "\n",
       "       [[8, 5, 1],\n",
       "        [5, 2, 7]],\n",
       "\n",
       "       [[0, 4, 5],\n",
       "        [8, 9, 1]],\n",
       "\n",
       "       [[1, 2, 6],\n",
       "        [3, 7, 4]]])"
      ]
     },
     "execution_count": 27,
     "metadata": {},
     "output_type": "execute_result"
    },
    {
     "data": {
      "text/plain": [
       "array([0, 4, 5])"
      ]
     },
     "execution_count": 27,
     "metadata": {},
     "output_type": "execute_result"
    }
   ],
   "source": [
    "c\n",
    "c[2, 0]\n",
    "# Same as c[2][0] but more readable"
   ]
  },
  {
   "cell_type": "markdown",
   "metadata": {
    "button": false,
    "new_sheet": false,
    "run_control": {
     "read_only": false
    }
   },
   "source": [
    "What about selecting all the first items along the second axis in `b`? Use the `:` operator:"
   ]
  },
  {
   "cell_type": "code",
   "execution_count": 141,
   "metadata": {
    "button": false,
    "new_sheet": false,
    "run_control": {
     "read_only": false
    }
   },
   "outputs": [
    {
     "data": {
      "text/plain": [
       "array([[8, 5, 6, 1],\n",
       "       [4, 3, 0, 7],\n",
       "       [1, 3, 2, 9]])"
      ]
     },
     "execution_count": 141,
     "metadata": {},
     "output_type": "execute_result"
    },
    {
     "data": {
      "text/plain": [
       "array([8, 4, 1])"
      ]
     },
     "execution_count": 141,
     "metadata": {},
     "output_type": "execute_result"
    }
   ],
   "source": [
    "b\n",
    "b[:, 0]"
   ]
  },
  {
   "cell_type": "markdown",
   "metadata": {
    "button": false,
    "new_sheet": false,
    "run_control": {
     "read_only": false
    }
   },
   "source": [
    "Since `b` is a 2-D array, this is equivalent to selecting the first column.\n",
    "\n",
    "`:` is the delimiter of the slice syntax to select a sub-part of a sequence, like: `[begin:end]`. __Note: the highest indx in the selected part is `end-1`.__\n",
    "\n",
    "For example, we can select the first two elements in `a` by typing:"
   ]
  },
  {
   "cell_type": "code",
   "execution_count": 142,
   "metadata": {},
   "outputs": [
    {
     "data": {
      "text/plain": [
       "array([1, 3, 2, 4])"
      ]
     },
     "execution_count": 142,
     "metadata": {},
     "output_type": "execute_result"
    },
    {
     "data": {
      "text/plain": [
       "array([1, 3])"
      ]
     },
     "execution_count": 142,
     "metadata": {},
     "output_type": "execute_result"
    }
   ],
   "source": [
    "a\n",
    "a[0:2]"
   ]
  },
  {
   "cell_type": "markdown",
   "metadata": {},
   "source": [
    "and we can select the upper left 2x2 sub-matrix in `b` as:"
   ]
  },
  {
   "cell_type": "code",
   "execution_count": 143,
   "metadata": {},
   "outputs": [
    {
     "data": {
      "text/plain": [
       "array([[8, 5, 6, 1],\n",
       "       [4, 3, 0, 7],\n",
       "       [1, 3, 2, 9]])"
      ]
     },
     "execution_count": 143,
     "metadata": {},
     "output_type": "execute_result"
    },
    {
     "data": {
      "text/plain": [
       "array([[8, 5],\n",
       "       [4, 3]])"
      ]
     },
     "execution_count": 143,
     "metadata": {},
     "output_type": "execute_result"
    }
   ],
   "source": [
    "b\n",
    "b[:2, :2]"
   ]
  },
  {
   "cell_type": "markdown",
   "metadata": {
    "button": false,
    "new_sheet": false,
    "run_control": {
     "read_only": false
    }
   },
   "source": [
    "Try selecting the elements requested in the next few lines.\n",
    "\n",
    "Select the second and third elements of `a`:"
   ]
  },
  {
   "cell_type": "code",
   "execution_count": 1,
   "metadata": {
    "button": false,
    "new_sheet": false,
    "run_control": {
     "read_only": false
    }
   },
   "outputs": [],
   "source": [
    "# uncomment and complete the next line \n",
    "# assert (your code here == np.array([3, 2])).all()"
   ]
  },
  {
   "cell_type": "markdown",
   "metadata": {
    "button": false,
    "new_sheet": false,
    "run_control": {
     "read_only": false
    }
   },
   "source": [
    "Select the elements from 1 to the end in `a`:"
   ]
  },
  {
   "cell_type": "code",
   "execution_count": 146,
   "metadata": {
    "button": false,
    "new_sheet": false,
    "run_control": {
     "read_only": false
    }
   },
   "outputs": [],
   "source": [
    "# uncomment and complete the next line\n",
    "# assert ( your code here == np.array([3, 2, 4])).all()\n",
    "# (a[1:] == np.array([3, 2, 4])).all()"
   ]
  },
  {
   "cell_type": "markdown",
   "metadata": {
    "button": false,
    "new_sheet": false,
    "run_control": {
     "read_only": false
    }
   },
   "source": [
    "Select all the elements from the beginning excluding the last one:"
   ]
  },
  {
   "cell_type": "code",
   "execution_count": 51,
   "metadata": {
    "button": false,
    "new_sheet": false,
    "run_control": {
     "read_only": false
    }
   },
   "outputs": [],
   "source": [
    "# uncomment and complete the next line\n",
    "# assert ( your code here == np.array([1, 3, 2])).all()\n",
    "# (a[0:3] == np.array([1, 3, 2])).all()"
   ]
  },
  {
   "cell_type": "markdown",
   "metadata": {},
   "source": [
    "#### 1.4. Stride"
   ]
  },
  {
   "cell_type": "markdown",
   "metadata": {},
   "source": [
    "We can also select regularly spaced elements by specifying a step size after a __second__ `:`. For example, to select the first and third element in `a` we can type the following. Note: -1 for `end` means the last element."
   ]
  },
  {
   "cell_type": "code",
   "execution_count": 148,
   "metadata": {},
   "outputs": [
    {
     "data": {
      "text/plain": [
       "array([1, 3, 2, 4])"
      ]
     },
     "execution_count": 148,
     "metadata": {},
     "output_type": "execute_result"
    },
    {
     "data": {
      "text/plain": [
       "array([1, 2])"
      ]
     },
     "execution_count": 148,
     "metadata": {},
     "output_type": "execute_result"
    }
   ],
   "source": [
    "a\n",
    "a[0:-1:2]"
   ]
  },
  {
   "cell_type": "markdown",
   "metadata": {},
   "source": [
    "or, simply:"
   ]
  },
  {
   "cell_type": "code",
   "execution_count": 57,
   "metadata": {},
   "outputs": [
    {
     "data": {
      "text/plain": [
       "array([1, 2])"
      ]
     },
     "execution_count": 57,
     "metadata": {},
     "output_type": "execute_result"
    }
   ],
   "source": [
    "a[::2]"
   ]
  },
  {
   "cell_type": "markdown",
   "metadata": {},
   "source": [
    "where it is implicit that we want start and end to be the first and last element in the array."
   ]
  },
  {
   "cell_type": "markdown",
   "metadata": {
    "button": false,
    "new_sheet": false,
    "run_control": {
     "read_only": false
    }
   },
   "source": [
    "#### 1.5. (Element-wise) Math"
   ]
  },
  {
   "cell_type": "markdown",
   "metadata": {},
   "source": [
    "We'll try to keep the math at a minimum here, but we do need to understand how the various operations work in an array.\n",
    "\n",
    "Math operators work __element-wise__, meaning that the mathematical operation is performed on _all_ of the elements and their corresponding element locations."
   ]
  },
  {
   "cell_type": "markdown",
   "metadata": {},
   "source": [
    "For instance, let's say we have two variables of shape `(2,)`. \n",
    "\n",
    "```python\n",
    "one = np.array([1, 2])\n",
    "two = np.array([3, 4])\n",
    "```"
   ]
  },
  {
   "cell_type": "markdown",
   "metadata": {},
   "source": [
    "Addition works here by adding `one[0]` and `two[0]` together, then adding `one[1]` and `two[1]` together:\n",
    "\n",
    "```python\n",
    "one + two # array([4, 6])\n",
    "```"
   ]
  },
  {
   "cell_type": "code",
   "execution_count": 149,
   "metadata": {},
   "outputs": [
    {
     "data": {
      "text/plain": [
       "array([1, 3, 2, 4])"
      ]
     },
     "execution_count": 149,
     "metadata": {},
     "output_type": "execute_result"
    },
    {
     "data": {
      "text/plain": [
       "array([ 3,  9,  6, 12])"
      ]
     },
     "execution_count": 149,
     "metadata": {},
     "output_type": "execute_result"
    }
   ],
   "source": [
    "a\n",
    "3 * a"
   ]
  },
  {
   "cell_type": "code",
   "execution_count": 59,
   "metadata": {
    "button": false,
    "new_sheet": false,
    "run_control": {
     "read_only": false
    }
   },
   "outputs": [
    {
     "data": {
      "text/plain": [
       "array([2, 6, 4, 8])"
      ]
     },
     "execution_count": 59,
     "metadata": {},
     "output_type": "execute_result"
    }
   ],
   "source": [
    "a + a"
   ]
  },
  {
   "cell_type": "code",
   "execution_count": 60,
   "metadata": {
    "button": false,
    "new_sheet": false,
    "run_control": {
     "read_only": false
    }
   },
   "outputs": [
    {
     "data": {
      "text/plain": [
       "array([ 1,  9,  4, 16])"
      ]
     },
     "execution_count": 60,
     "metadata": {},
     "output_type": "execute_result"
    }
   ],
   "source": [
    "a * a"
   ]
  },
  {
   "cell_type": "code",
   "execution_count": 61,
   "metadata": {
    "button": false,
    "new_sheet": false,
    "run_control": {
     "read_only": false
    }
   },
   "outputs": [
    {
     "data": {
      "text/plain": [
       "array([1., 1., 1., 1.])"
      ]
     },
     "execution_count": 61,
     "metadata": {},
     "output_type": "execute_result"
    }
   ],
   "source": [
    "a / a"
   ]
  },
  {
   "cell_type": "code",
   "execution_count": 62,
   "metadata": {
    "button": false,
    "new_sheet": false,
    "run_control": {
     "read_only": false
    }
   },
   "outputs": [
    {
     "data": {
      "text/plain": [
       "array([0, 0, 0, 0])"
      ]
     },
     "execution_count": 62,
     "metadata": {},
     "output_type": "execute_result"
    }
   ],
   "source": [
    "a - a"
   ]
  },
  {
   "cell_type": "markdown",
   "metadata": {},
   "source": [
    "#### 1.6. Array broadcasting\n",
    "\n",
    "\n",
    "Broadcasting is the name given to the method that NumPy uses to allow array arithmetic between arrays with a different shape or size."
   ]
  },
  {
   "cell_type": "code",
   "execution_count": 151,
   "metadata": {
    "button": false,
    "new_sheet": false,
    "run_control": {
     "read_only": false
    }
   },
   "outputs": [
    {
     "data": {
      "text/plain": [
       "array([1, 3, 2, 4])"
      ]
     },
     "execution_count": 151,
     "metadata": {},
     "output_type": "execute_result"
    },
    {
     "data": {
      "text/plain": [
       "array([[8, 5, 6, 1],\n",
       "       [4, 3, 0, 7],\n",
       "       [1, 3, 2, 9]])"
      ]
     },
     "execution_count": 151,
     "metadata": {},
     "output_type": "execute_result"
    },
    {
     "data": {
      "text/plain": [
       "array([[ 9,  8,  8,  5],\n",
       "       [ 5,  6,  2, 11],\n",
       "       [ 2,  6,  4, 13]])"
      ]
     },
     "execution_count": 151,
     "metadata": {},
     "output_type": "execute_result"
    }
   ],
   "source": [
    "a\n",
    "b\n",
    "a + b"
   ]
  },
  {
   "cell_type": "code",
   "execution_count": 150,
   "metadata": {
    "button": false,
    "new_sheet": false,
    "run_control": {
     "read_only": false
    }
   },
   "outputs": [
    {
     "data": {
      "text/plain": [
       "array([[ 8, 15, 12,  4],\n",
       "       [ 4,  9,  0, 28],\n",
       "       [ 1,  9,  4, 36]])"
      ]
     },
     "execution_count": 150,
     "metadata": {},
     "output_type": "execute_result"
    }
   ],
   "source": [
    "a * b"
   ]
  },
  {
   "cell_type": "markdown",
   "metadata": {},
   "source": [
    "#### 1.7. Dot product of matrices\n",
    "\n",
    "To perform matrix multiplication between two 2-d matrices m1 and m2, you must use the dot product operator: either `m1.dot(m2)` or `numpy.dot(m1,m2)`"
   ]
  },
  {
   "cell_type": "code",
   "execution_count": 28,
   "metadata": {},
   "outputs": [],
   "source": [
    "m1 = np.array([[1, 2, 3]])\n",
    "m2 = np.array([[ 5, 1 ,3], \n",
    "               [ 1, 1 ,1], \n",
    "               [ 1, 2 ,1]])\n"
   ]
  },
  {
   "cell_type": "code",
   "execution_count": 29,
   "metadata": {},
   "outputs": [
    {
     "data": {
      "text/plain": [
       "array([[1, 2, 3]])"
      ]
     },
     "execution_count": 29,
     "metadata": {},
     "output_type": "execute_result"
    },
    {
     "data": {
      "text/plain": [
       "array([[5, 1, 3],\n",
       "       [1, 1, 1],\n",
       "       [1, 2, 1]])"
      ]
     },
     "execution_count": 29,
     "metadata": {},
     "output_type": "execute_result"
    },
    {
     "data": {
      "text/plain": [
       "array([[10,  9,  8]])"
      ]
     },
     "execution_count": 29,
     "metadata": {},
     "output_type": "execute_result"
    }
   ],
   "source": [
    "m1\n",
    "m2\n",
    "m1.dot(m2)"
   ]
  },
  {
   "cell_type": "code",
   "execution_count": 30,
   "metadata": {},
   "outputs": [
    {
     "data": {
      "text/plain": [
       "array([[10,  9,  8]])"
      ]
     },
     "execution_count": 30,
     "metadata": {},
     "output_type": "execute_result"
    }
   ],
   "source": [
    "np.dot(m1, m2)"
   ]
  },
  {
   "cell_type": "markdown",
   "metadata": {},
   "source": [
    "Another example. First, let's transpose m1 from a row to a column and concatenate it to m2 on the 2nd axis (i.e. column) so as to create a new 3 x 4 matrix m3. "
   ]
  },
  {
   "cell_type": "code",
   "execution_count": 46,
   "metadata": {},
   "outputs": [
    {
     "data": {
      "text/plain": [
       "array([[5, 1, 3, 1],\n",
       "       [1, 1, 1, 2],\n",
       "       [1, 2, 1, 3]])"
      ]
     },
     "execution_count": 46,
     "metadata": {},
     "output_type": "execute_result"
    },
    {
     "data": {
      "text/plain": [
       "array([[5, 1, 3],\n",
       "       [1, 1, 1],\n",
       "       [1, 2, 1],\n",
       "       [1, 2, 3]])"
      ]
     },
     "execution_count": 46,
     "metadata": {},
     "output_type": "execute_result"
    }
   ],
   "source": [
    "m3=np.concatenate((m2, m1.transpose()), 1)\n",
    "m3\n",
    "np.concatenate((m2, m1), 0)"
   ]
  },
  {
   "cell_type": "code",
   "execution_count": 54,
   "metadata": {},
   "outputs": [],
   "source": [
    "# uncomment and complete the next line, which concatenates m1 to m2 on the 1st axis (i.e. row)\n",
    "# assert ( your code here == np.array([[5, 1, 3], [1, 1, 1], [1, 2, 1], [1, 2, 3]])).all()\n",
    "# (np.concatenate((m2, m1), 0) == np.array([[5, 1, 3], [1, 1, 1], [1, 2, 1], [1, 2, 3]])).all()"
   ]
  },
  {
   "cell_type": "markdown",
   "metadata": {},
   "source": [
    "Then let's calculate the dot product of m2 (a 3 x 3 matrix) and m3 (a 3 x 4 matrix)"
   ]
  },
  {
   "cell_type": "code",
   "execution_count": 177,
   "metadata": {},
   "outputs": [
    {
     "data": {
      "text/plain": [
       "array([[29, 12, 19, 16],\n",
       "       [ 7,  4,  5,  6],\n",
       "       [ 8,  5,  6,  8]])"
      ]
     },
     "execution_count": 177,
     "metadata": {},
     "output_type": "execute_result"
    }
   ],
   "source": [
    "m2.dot(m3)"
   ]
  },
  {
   "cell_type": "code",
   "execution_count": 179,
   "metadata": {},
   "outputs": [],
   "source": [
    "# This will fail\n",
    "# m3.dot(m2)"
   ]
  },
  {
   "cell_type": "markdown",
   "metadata": {
    "button": false,
    "new_sheet": false,
    "run_control": {
     "read_only": false
    }
   },
   "source": [
    "Go ahead and play a little to make sure we understand how these work.\n",
    "\n",
    "> TIP: If you're not familiar with the difference between element-wise multiplication and dot product, check out these two links:\n",
    "> - [Hadamard product](https://en.wikipedia.org/wiki/Hadamard_product_%28matrices%29)\n",
    "> - [Matrix multiplication](https://en.wikipedia.org/wiki/Matrix_multiplication)"
   ]
  },
  {
   "cell_type": "markdown",
   "metadata": {
    "button": false,
    "new_sheet": false,
    "run_control": {
     "read_only": false
    }
   },
   "source": [
    "As mentioned in the beginning, `numpy` is a very mature library that allows us to perform many operations on arrays including:\n",
    "\n",
    "- vectorized mathematical functions\n",
    "- masks and conditional selections\n",
    "- matrix operations\n",
    "- aggregations\n",
    "- filters, grouping, selections\n",
    "- random numbers\n",
    "- zeros and ones\n",
    "\n",
    "and much more.\n",
    "\n",
    "We will introduce these different operations as needed. The curious reader should check to [this documentation](https://docs.scipy.org/doc/numpy/user/quickstart.html) for more information."
   ]
  },
  {
   "cell_type": "markdown",
   "metadata": {
    "button": false,
    "new_sheet": false,
    "run_control": {
     "read_only": false
    }
   },
   "source": [
    "### 2. Matplotlib"
   ]
  },
  {
   "cell_type": "markdown",
   "metadata": {},
   "source": [
    "Another library we will use extensively is Matplotlib. The [Matplotlib](https://matplotlib.org/) library is used to plot graphs so that we can visualize our data. Visualization can help a lot in Machine Learning. Throughout this course, we will use different kinds of plots in many situations, including\n",
    "\n",
    "* Visualizing the shape/distributions of our data.\n",
    "* Inspecting the performance improvement of our networks as training progresses.\n",
    "* Visualizing pairs of features to look for correlations.\n",
    "\n",
    "Let's have a look at how to generate the most common plots available in `matplotlib`."
   ]
  },
  {
   "cell_type": "code",
   "execution_count": 3,
   "metadata": {
    "button": false,
    "new_sheet": false,
    "run_control": {
     "read_only": false
    }
   },
   "outputs": [],
   "source": [
    "import matplotlib.pyplot as plt"
   ]
  },
  {
   "cell_type": "markdown",
   "metadata": {},
   "source": [
    "Above we've imported `matplotlib.pyplot`, which gives us access to the plotting functions.\n",
    "\n",
    "Let's set a few standard parameters that define how plots will look like. Their names are self-explanatory. In the future, we'll bundle these into a configuration file."
   ]
  },
  {
   "cell_type": "code",
   "execution_count": 56,
   "metadata": {},
   "outputs": [],
   "source": [
    "from matplotlib.pyplot import rcParams\n",
    "from IPython.display import set_matplotlib_formats\n",
    "\n",
    "rcParams['font.size'] = 14\n",
    "rcParams['lines.linewidth'] = 2\n",
    "rcParams['figure.figsize'] = (7.5, 5)\n",
    "rcParams['axes.titlepad'] = 14\n",
    "rcParams['savefig.pad_inches'] = 0.12\n",
    "set_matplotlib_formats('png', 'pdf')"
   ]
  },
  {
   "cell_type": "markdown",
   "metadata": {},
   "source": [
    "To plot some data with a line plot, we can call the `plot` function on that data. We can try plotting our `a` vector from above like so:"
   ]
  },
  {
   "cell_type": "code",
   "execution_count": 57,
   "metadata": {
    "button": false,
    "new_sheet": false,
    "run_control": {
     "read_only": false
    }
   },
   "outputs": [
    {
     "data": {
      "application/pdf": "[encoded data removed]",
      "image/png": "[encoded data removed]",
      "text/plain": [
       "<Figure size 540x360 with 1 Axes>"
      ]
     },
     "metadata": {
      "needs_background": "light"
     },
     "output_type": "display_data"
    }
   ],
   "source": [
    "plt.plot(a);"
   ]
  },
  {
   "cell_type": "markdown",
   "metadata": {
    "button": false,
    "new_sheet": false,
    "run_control": {
     "read_only": false
    }
   },
   "source": [
    "We can also render a scatter plot, by specifying a symbol to use to plot each point."
   ]
  },
  {
   "cell_type": "code",
   "execution_count": 58,
   "metadata": {
    "button": false,
    "new_sheet": false,
    "run_control": {
     "read_only": false
    }
   },
   "outputs": [
    {
     "data": {
      "application/pdf": "[encoded data removed]",
      "image/png": "[encoded data removed]",
      "text/plain": [
       "<Figure size 540x360 with 1 Axes>"
      ]
     },
     "metadata": {
      "needs_background": "light"
     },
     "output_type": "display_data"
    }
   ],
   "source": [
    "plt.plot(a, 'o');"
   ]
  },
  {
   "cell_type": "markdown",
   "metadata": {
    "button": false,
    "new_sheet": false,
    "run_control": {
     "read_only": false
    }
   },
   "source": [
    "In the plot below, we interpret 2-D Arrays as *tabular data*, i.e., data arranged in a table with rows and columns. Each row corresponds to one data point and each column to a coordinate for that data point.\n",
    "\n",
    "If we plot `b` we will obtain four curves, one for each coordinate, with three points each."
   ]
  },
  {
   "cell_type": "code",
   "execution_count": 59,
   "metadata": {
    "button": false,
    "new_sheet": false,
    "run_control": {
     "read_only": false
    }
   },
   "outputs": [
    {
     "data": {
      "text/plain": [
       "[<matplotlib.lines.Line2D at 0x7fb29844c128>,\n",
       " <matplotlib.lines.Line2D at 0x7fb29844c240>,\n",
       " <matplotlib.lines.Line2D at 0x7fb29844c390>,\n",
       " <matplotlib.lines.Line2D at 0x7fb29844c4e0>]"
      ]
     },
     "execution_count": 59,
     "metadata": {},
     "output_type": "execute_result"
    },
    {
     "data": {
      "text/plain": [
       "array([[8, 5, 6, 1],\n",
       "       [4, 3, 0, 7],\n",
       "       [1, 3, 2, 9]])"
      ]
     },
     "execution_count": 59,
     "metadata": {},
     "output_type": "execute_result"
    },
    {
     "data": {
      "application/pdf": "[encoded data removed]",
      "image/png": "[encoded data removed]",
      "text/plain": [
       "<Figure size 540x360 with 1 Axes>"
      ]
     },
     "metadata": {
      "needs_background": "light"
     },
     "output_type": "display_data"
    }
   ],
   "source": [
    "plt.plot(b, 'o-');\n",
    "b"
   ]
  },
  {
   "cell_type": "markdown",
   "metadata": {
    "button": false,
    "new_sheet": false,
    "run_control": {
     "read_only": false
    }
   },
   "source": [
    "Notice that we plotted the four lines in the figure as a two dimensional graph where the first line has a point at `(0, 8)`, one at `(1, 4)`, and another at `(2, 1)`, which maps to the first columns of `b`.\n",
    "\n",
    "Let's take another look at `b`: "
   ]
  },
  {
   "cell_type": "code",
   "execution_count": 34,
   "metadata": {
    "button": false,
    "new_sheet": false,
    "run_control": {
     "read_only": false
    }
   },
   "outputs": [
    {
     "data": {
      "text/plain": [
       "array([[8, 5, 6, 1],\n",
       "       [4, 3, 0, 7],\n",
       "       [1, 3, 2, 9]])"
      ]
     },
     "execution_count": 34,
     "metadata": {},
     "output_type": "execute_result"
    }
   ],
   "source": [
    "b"
   ]
  },
  {
   "cell_type": "markdown",
   "metadata": {
    "button": false,
    "new_sheet": false,
    "run_control": {
     "read_only": false
    }
   },
   "source": [
    "`b` has the shape `(3, 4)`. If we want to plot three lines with four points each, we need to swap the rows with the columns.\n",
    "\n",
    "We do that by using the `transpose` function:"
   ]
  },
  {
   "cell_type": "code",
   "execution_count": 80,
   "metadata": {
    "button": false,
    "new_sheet": false,
    "run_control": {
     "read_only": false
    }
   },
   "outputs": [
    {
     "data": {
      "text/plain": [
       "array([[8, 4, 1],\n",
       "       [5, 3, 3],\n",
       "       [6, 0, 2],\n",
       "       [1, 7, 9]])"
      ]
     },
     "execution_count": 80,
     "metadata": {},
     "output_type": "execute_result"
    }
   ],
   "source": [
    "b.transpose()"
   ]
  },
  {
   "cell_type": "markdown",
   "metadata": {
    "button": false,
    "new_sheet": false,
    "run_control": {
     "read_only": false
    }
   },
   "source": [
    "Now we can pass `b.transpose()` to `plot` and plot the three lines:"
   ]
  },
  {
   "cell_type": "code",
   "execution_count": 73,
   "metadata": {
    "button": false,
    "new_sheet": false,
    "run_control": {
     "read_only": false
    }
   },
   "outputs": [
    {
     "data": {
      "application/pdf": "[encoded data removed]",
      "image/png": "[encoded data removed]",
      "text/plain": [
       "<Figure size 540x360 with 1 Axes>"
      ]
     },
     "metadata": {
      "needs_background": "light"
     },
     "output_type": "display_data"
    }
   ],
   "source": [
    "plt.plot(b.transpose(), 'd-');"
   ]
  },
  {
   "cell_type": "markdown",
   "metadata": {
    "button": false,
    "new_sheet": false,
    "run_control": {
     "read_only": false
    }
   },
   "source": [
    "Notice how we used a different marker and also added the line between points. `matplotlib` contains a variety of functions that let us create detailed, sophisticated plots. "
   ]
  },
  {
   "cell_type": "markdown",
   "metadata": {
    "button": false,
    "new_sheet": false,
    "run_control": {
     "read_only": false
    }
   },
   "source": [
    "> TIP [This gallery](https://matplotlib.org/gallery.html) gives more examples of what's possible with Matplotlib."
   ]
  },
  {
   "cell_type": "markdown",
   "metadata": {
    "button": false,
    "new_sheet": false,
    "run_control": {
     "read_only": false
    }
   },
   "source": [
    "### 3. Scikit-Learn"
   ]
  },
  {
   "cell_type": "markdown",
   "metadata": {},
   "source": [
    "[Scikit-learn](https://scikit-learn.org/stable/) is a beautiful library for many Machine Learning algorithms in Python. We will use it here to generate some data"
   ]
  },
  {
   "cell_type": "code",
   "execution_count": 5,
   "metadata": {
    "button": false,
    "new_sheet": false,
    "run_control": {
     "read_only": false
    }
   },
   "outputs": [],
   "source": [
    "from sklearn.datasets import make_circles\n",
    "\n",
    "X, y = make_circles(n_samples=1000,\n",
    "                    noise=0.1,\n",
    "                    factor=0.2,\n",
    "                    random_state=0)"
   ]
  },
  {
   "cell_type": "markdown",
   "metadata": {
    "button": false,
    "new_sheet": false,
    "run_control": {
     "read_only": false
    }
   },
   "source": [
    "The `make_circle` function will generate two \"rings\" of data points, each with two coordinates. It will also create an array of *labels*, either 0 or 1.\n",
    "\n",
    "> TIP: *label* is a common term in Machine Learning that will be explained better in classification problems. It is a number indicating the class to which the data belongs.\n",
    "\n",
    "We assigned these to the variables `X` (upper-case) and `y` (lower-case). It is a very common notation in Machine Learning.\n",
    "- `X` indicates the input variable, and it is usually an array of dimension >= 2 with the outer index running over the various data points in the set.\n",
    "- `y` indicates the output variable, and it can be an array of dimension >= 1. In this case, our data will belong to either one circle or the other, and therefore our output variable will be binary: either `0` or `1`. In particular, the data points belonging to the inner circle will have a label of `1`.\n",
    "\n",
    "Let's take a look at the raw data we generated in `X`:"
   ]
  },
  {
   "cell_type": "code",
   "execution_count": 193,
   "metadata": {
    "button": false,
    "new_sheet": false,
    "run_control": {
     "read_only": false
    }
   },
   "outputs": [
    {
     "data": {
      "text/plain": [
       "array([[ 0.24265541,  0.0383196 ],\n",
       "       [ 0.04433036, -0.05667334],\n",
       "       [-0.78677748, -0.75718576],\n",
       "       ...,\n",
       "       [ 0.0161236 , -0.00548034],\n",
       "       [ 0.20624715,  0.09769677],\n",
       "       [-0.19186631,  0.08916672]])"
      ]
     },
     "execution_count": 193,
     "metadata": {},
     "output_type": "execute_result"
    }
   ],
   "source": [
    "X"
   ]
  },
  {
   "cell_type": "markdown",
   "metadata": {},
   "source": [
    "We can see the raw generated labels in `y`:"
   ]
  },
  {
   "cell_type": "code",
   "execution_count": 194,
   "metadata": {
    "button": false,
    "new_sheet": false,
    "run_control": {
     "read_only": false
    }
   },
   "outputs": [
    {
     "data": {
      "text/plain": [
       "array([1, 1, 0, 1, 1, 1, 0, 0, 0, 1])"
      ]
     },
     "execution_count": 194,
     "metadata": {},
     "output_type": "execute_result"
    }
   ],
   "source": [
    "y[:10]"
   ]
  },
  {
   "cell_type": "markdown",
   "metadata": {},
   "source": [
    "We can also check the shape of X and y respectively:"
   ]
  },
  {
   "cell_type": "code",
   "execution_count": 41,
   "metadata": {
    "button": false,
    "new_sheet": false,
    "run_control": {
     "read_only": false
    }
   },
   "outputs": [
    {
     "data": {
      "text/plain": [
       "(1000, 2)"
      ]
     },
     "execution_count": 41,
     "metadata": {},
     "output_type": "execute_result"
    }
   ],
   "source": [
    "X.shape"
   ]
  },
  {
   "cell_type": "code",
   "execution_count": 79,
   "metadata": {
    "button": false,
    "new_sheet": false,
    "run_control": {
     "read_only": false
    }
   },
   "outputs": [
    {
     "data": {
      "text/plain": [
       "(1000,)"
      ]
     },
     "execution_count": 79,
     "metadata": {},
     "output_type": "execute_result"
    }
   ],
   "source": [
    "y.shape"
   ]
  },
  {
   "cell_type": "markdown",
   "metadata": {
    "button": false,
    "new_sheet": false,
    "run_control": {
     "read_only": false
    }
   },
   "source": [
    "While we can investigate the individual points, it becomes a lot clearer if we plot the points visually using `matplotlib`. \n",
    "\n",
    "Here's how we do that:"
   ]
  },
  {
   "cell_type": "code",
   "execution_count": 6,
   "metadata": {
    "button": false,
    "new_sheet": false,
    "run_control": {
     "read_only": false
    }
   },
   "outputs": [
    {
     "data": {
      "image/png": "[encoded data removed]",
      "text/plain": [
       "<Figure size 360x360 with 1 Axes>"
      ]
     },
     "metadata": {
      "needs_background": "light"
     },
     "output_type": "display_data"
    }
   ],
   "source": [
    "plt.figure(figsize=(5, 5))\n",
    "plt.plot(X[y==0, 0], X[y==0, 1], 'ob', alpha=0.5)\n",
    "plt.plot(X[y==1, 0], X[y==1, 1], 'xr', alpha=0.5)\n",
    "plt.xlim(-1.5, 1.5)\n",
    "plt.ylim(-1.5, 1.5)\n",
    "plt.legend(['0', '1'])\n",
    "plt.title(\"Blue circles and Red crosses\");"
   ]
  },
  {
   "cell_type": "markdown",
   "metadata": {
    "button": false,
    "new_sheet": false,
    "run_control": {
     "read_only": false
    }
   },
   "source": [
    "Notice that we used some transparency, controlled by the parameter `alpha`.\n",
    "\n",
    "> TIP: what does the `X[y==0, 0]` syntax do? Let's break it down:\n",
    "> \n",
    "> - `X[ , ]` is the multiple-axis selection operator so that we will be selecting along rows and columns in the 2D `X` array.\n",
    "> \n",
    "> - `X[:, 0]` would select all the elements in the first column of `X`. If we interpret the two columns of `X` as being the coordinates along the two axes of the plot, we are selecting the coordinates along the horizontal axis.\n",
    "> \n",
    "> - `y==0` returns a boolean array of the same length as `y`, with `True` at the locations where `y` is equal to 0 and `False` in the remaining locations. By passing this boolean array in the row selector, `numpy` will smartly choose only those rows in `X` for which the boolean condition is `True`.\n",
    "> \n",
    "> Thus `X[y==0, 0]` means: select all the data points corresponding to the label `0` and for each of these select the first coordinate, then return all these in an array."
   ]
  },
  {
   "cell_type": "markdown",
   "metadata": {
    "button": false,
    "new_sheet": false,
    "run_control": {
     "read_only": false
    }
   },
   "source": [
    "Notice also how we are using the keywords [`color`](https://matplotlib.org/api/colors_api.html) and [`marker`](https://matplotlib.org/api/markers_api.html) to modify the aspect of our plot.\n",
    "\n",
    "When looking at this plot, notice that points scatter on the plane in two concentric circles, the blue dots form a larger ring on the outside, and the red crosses a smaller circle on the inside. Although the data in this plot is synthetic, it's representative of any situations where we want to separate two classes that are not separable with a straight line.\n",
    "\n",
    "> TIP: We refer to _synthetic data_ when data was generated using a random number generator or a script\n",
    "\n",
    "For example, we could try to distinguish between fake and true banknotes or between different classes of wine, and in all these cases the boundary between a class and the other will not be a straight line.\n"
   ]
  }
 ],
 "metadata": {
  "kernelspec": {
   "display_name": "Python 3",
   "language": "python",
   "name": "python3"
  },
  "language_info": {
   "codemirror_mode": {
    "name": "ipython",
    "version": 3
   },
   "file_extension": ".py",
   "mimetype": "text/x-python",
   "name": "python",
   "nbconvert_exporter": "python",
   "pygments_lexer": "ipython3",
   "version": "3.7.3"
  },
  "title": "Getting Started"
 },
 "nbformat": 4,
 "nbformat_minor": 2
}
