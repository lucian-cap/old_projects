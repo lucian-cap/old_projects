{
 "cells": [
  {
   "cell_type": "markdown",
   "metadata": {},
   "source": [
    "# CS 4820\n",
    "# Assignment 4: Data Pre-processing and Model Analysis\n",
    "\n",
    "# Due: 2:00pm October 2, 2019"
   ]
  },
  {
   "cell_type": "markdown",
   "metadata": {},
   "source": [
    "The [Pima Indians dataset](https://www.kaggle.com/uciml/pima-indians-diabetes-database) is a very famous dataset distributed by UCI and originally collected from the National Institute of Diabetes and Digestive and Kidney Diseases. It contains data from clinical exams for 614 women age 21 and above of Pima indian origins. The objective is to predict, based on diagnostic measurements, whether a patient has diabetes.\n",
    "\n",
    "It has the following features:\n",
    "\n",
    "- Pregnancies: Number of times pregnant\n",
    "- Glucose: Plasma glucose concentration a 2 hours in an oral glucose tolerance test\n",
    "- BloodPressure: Diastolic blood pressure (mm Hg)\n",
    "- SkinThickness: Triceps skin fold thickness (mm)\n",
    "- Insulin: 2-Hour serum insulin (mu U/ml)\n",
    "- BMI: Body mass index (weight in kg/(height in m)^2)\n",
    "- DiabetesPedigreeFunction: Diabetes pedigree function\n",
    "- Age: Age (years)\n",
    "\n",
    "The last column is the outcome, and it is a binary variable.\n",
    "\n",
    "In this assignment, you are asked to build an ANN model to do the diabetes prediction. "
   ]
  },
  {
   "cell_type": "markdown",
   "metadata": {},
   "source": [
    "### 0. The *diabetes* Dataset and Data Preprocessing\n"
   ]
  },
  {
   "cell_type": "code",
   "execution_count": 1,
   "metadata": {},
   "outputs": [],
   "source": [
    "# your code here ...\n",
    "from sklearn.preprocessing import StandardScaler\n",
    "from sklearn.model_selection import train_test_split\n",
    "from tensorflow.keras.models import Sequential\n",
    "from tensorflow.keras.layers import Dense\n",
    "from tensorflow.keras.optimizers import Adam\n",
    "from sklearn.metrics import classification_report\n",
    "from sklearn.metrics import accuracy_score, confusion_matrix\n",
    "import matplotlib.pyplot as plt\n",
    "import numpy as np\n",
    "import pandas as pd\n",
    "\n",
    "df = pd.read_csv('data/diabetes.csv')\n",
    "X = df.drop('Outcome', axis=1).values\n",
    "y = df['Outcome'].values"
   ]
  },
  {
   "cell_type": "code",
   "execution_count": 2,
   "metadata": {},
   "outputs": [],
   "source": [
    "from sklearn.preprocessing import StandardScaler\n",
    "\n",
    "sc = StandardScaler()\n",
    "X = sc.fit_transform(X)\n",
    "\n",
    "X_train, X_test, y_train, y_test = train_test_split(X, y, test_size=0.2, random_state = 0, stratify=y)"
   ]
  },
  {
   "cell_type": "markdown",
   "metadata": {},
   "source": [
    "### 1. Binary-Classification Model\n"
   ]
  },
  {
   "cell_type": "code",
   "execution_count": 3,
   "metadata": {},
   "outputs": [
    {
     "name": "stdout",
     "output_type": "stream",
     "text": [
      "Epoch 1/100\n",
      "614/614 - 0s - loss: 0.6860 - accuracy: 0.6075\n",
      "Epoch 2/100\n",
      "614/614 - 0s - loss: 0.6645 - accuracy: 0.6515\n",
      "Epoch 3/100\n",
      "614/614 - 0s - loss: 0.6362 - accuracy: 0.6515\n",
      "Epoch 4/100\n",
      "614/614 - 0s - loss: 0.5995 - accuracy: 0.6564\n",
      "Epoch 5/100\n",
      "614/614 - 0s - loss: 0.5585 - accuracy: 0.7150\n",
      "Epoch 6/100\n",
      "614/614 - 0s - loss: 0.5197 - accuracy: 0.7622\n",
      "Epoch 7/100\n",
      "614/614 - 0s - loss: 0.4986 - accuracy: 0.7638\n",
      "Epoch 8/100\n",
      "614/614 - 0s - loss: 0.4857 - accuracy: 0.7704\n",
      "Epoch 9/100\n",
      "614/614 - 0s - loss: 0.4783 - accuracy: 0.7736\n",
      "Epoch 10/100\n",
      "614/614 - 0s - loss: 0.4742 - accuracy: 0.7769\n",
      "Epoch 11/100\n",
      "614/614 - 0s - loss: 0.4728 - accuracy: 0.7687\n",
      "Epoch 12/100\n",
      "614/614 - 0s - loss: 0.4693 - accuracy: 0.7769\n",
      "Epoch 13/100\n",
      "614/614 - 0s - loss: 0.4689 - accuracy: 0.7736\n",
      "Epoch 14/100\n",
      "614/614 - 0s - loss: 0.4662 - accuracy: 0.7752\n",
      "Epoch 15/100\n",
      "614/614 - 0s - loss: 0.4627 - accuracy: 0.7769\n",
      "Epoch 16/100\n",
      "614/614 - 0s - loss: 0.4604 - accuracy: 0.7801\n",
      "Epoch 17/100\n",
      "614/614 - 0s - loss: 0.4607 - accuracy: 0.7850\n",
      "Epoch 18/100\n",
      "614/614 - 0s - loss: 0.4582 - accuracy: 0.7834\n",
      "Epoch 19/100\n",
      "614/614 - 0s - loss: 0.4570 - accuracy: 0.7752\n",
      "Epoch 20/100\n",
      "614/614 - 0s - loss: 0.4583 - accuracy: 0.7883\n",
      "Epoch 21/100\n",
      "614/614 - 0s - loss: 0.4534 - accuracy: 0.7785\n",
      "Epoch 22/100\n",
      "614/614 - 0s - loss: 0.4547 - accuracy: 0.7850\n",
      "Epoch 23/100\n",
      "614/614 - 0s - loss: 0.4543 - accuracy: 0.7785\n",
      "Epoch 24/100\n",
      "614/614 - 0s - loss: 0.4512 - accuracy: 0.7801\n",
      "Epoch 25/100\n",
      "614/614 - 0s - loss: 0.4497 - accuracy: 0.7834\n",
      "Epoch 26/100\n",
      "614/614 - 0s - loss: 0.4509 - accuracy: 0.7818\n",
      "Epoch 27/100\n",
      "614/614 - 0s - loss: 0.4485 - accuracy: 0.7834\n",
      "Epoch 28/100\n",
      "614/614 - 0s - loss: 0.4483 - accuracy: 0.7752\n",
      "Epoch 29/100\n",
      "614/614 - 0s - loss: 0.4498 - accuracy: 0.7883\n",
      "Epoch 30/100\n",
      "614/614 - 0s - loss: 0.4449 - accuracy: 0.7866\n",
      "Epoch 31/100\n",
      "614/614 - 0s - loss: 0.4443 - accuracy: 0.7818\n",
      "Epoch 32/100\n",
      "614/614 - 0s - loss: 0.4442 - accuracy: 0.7850\n",
      "Epoch 33/100\n",
      "614/614 - 0s - loss: 0.4434 - accuracy: 0.7818\n",
      "Epoch 34/100\n",
      "614/614 - 0s - loss: 0.4417 - accuracy: 0.7769\n",
      "Epoch 35/100\n",
      "614/614 - 0s - loss: 0.4402 - accuracy: 0.7883\n",
      "Epoch 36/100\n",
      "614/614 - 0s - loss: 0.4397 - accuracy: 0.7834\n",
      "Epoch 37/100\n",
      "614/614 - 0s - loss: 0.4384 - accuracy: 0.7883\n",
      "Epoch 38/100\n",
      "614/614 - 0s - loss: 0.4380 - accuracy: 0.7850\n",
      "Epoch 39/100\n",
      "614/614 - 0s - loss: 0.4378 - accuracy: 0.7818\n",
      "Epoch 40/100\n",
      "614/614 - 0s - loss: 0.4365 - accuracy: 0.7883\n",
      "Epoch 41/100\n",
      "614/614 - 0s - loss: 0.4353 - accuracy: 0.7866\n",
      "Epoch 42/100\n",
      "614/614 - 0s - loss: 0.4334 - accuracy: 0.7883\n",
      "Epoch 43/100\n",
      "614/614 - 0s - loss: 0.4324 - accuracy: 0.7752\n",
      "Epoch 44/100\n",
      "614/614 - 0s - loss: 0.4325 - accuracy: 0.7883\n",
      "Epoch 45/100\n",
      "614/614 - 0s - loss: 0.4312 - accuracy: 0.7899\n",
      "Epoch 46/100\n",
      "614/614 - 0s - loss: 0.4309 - accuracy: 0.7818\n",
      "Epoch 47/100\n",
      "614/614 - 0s - loss: 0.4287 - accuracy: 0.7915\n",
      "Epoch 48/100\n",
      "614/614 - 0s - loss: 0.4283 - accuracy: 0.7915\n",
      "Epoch 49/100\n",
      "614/614 - 0s - loss: 0.4266 - accuracy: 0.7818\n",
      "Epoch 50/100\n",
      "614/614 - 0s - loss: 0.4252 - accuracy: 0.7915\n",
      "Epoch 51/100\n",
      "614/614 - 0s - loss: 0.4256 - accuracy: 0.7834\n",
      "Epoch 52/100\n",
      "614/614 - 0s - loss: 0.4253 - accuracy: 0.7866\n",
      "Epoch 53/100\n",
      "614/614 - 0s - loss: 0.4232 - accuracy: 0.7932\n",
      "Epoch 54/100\n",
      "614/614 - 0s - loss: 0.4236 - accuracy: 0.7883\n",
      "Epoch 55/100\n",
      "614/614 - 0s - loss: 0.4235 - accuracy: 0.7980\n",
      "Epoch 56/100\n",
      "614/614 - 0s - loss: 0.4217 - accuracy: 0.7932\n",
      "Epoch 57/100\n",
      "614/614 - 0s - loss: 0.4216 - accuracy: 0.7964\n",
      "Epoch 58/100\n",
      "614/614 - 0s - loss: 0.4193 - accuracy: 0.7997\n",
      "Epoch 59/100\n",
      "614/614 - 0s - loss: 0.4211 - accuracy: 0.7932\n",
      "Epoch 60/100\n",
      "614/614 - 0s - loss: 0.4175 - accuracy: 0.7997\n",
      "Epoch 61/100\n",
      "614/614 - 0s - loss: 0.4172 - accuracy: 0.8013\n",
      "Epoch 62/100\n",
      "614/614 - 0s - loss: 0.4172 - accuracy: 0.8029\n",
      "Epoch 63/100\n",
      "614/614 - 0s - loss: 0.4168 - accuracy: 0.7997\n",
      "Epoch 64/100\n",
      "614/614 - 0s - loss: 0.4180 - accuracy: 0.7980\n",
      "Epoch 65/100\n",
      "614/614 - 0s - loss: 0.4167 - accuracy: 0.7997\n",
      "Epoch 66/100\n",
      "614/614 - 0s - loss: 0.4149 - accuracy: 0.7997\n",
      "Epoch 67/100\n",
      "614/614 - 0s - loss: 0.4140 - accuracy: 0.7948\n",
      "Epoch 68/100\n",
      "614/614 - 0s - loss: 0.4145 - accuracy: 0.8062\n",
      "Epoch 69/100\n",
      "614/614 - 0s - loss: 0.4130 - accuracy: 0.8176\n",
      "Epoch 70/100\n",
      "614/614 - 0s - loss: 0.4110 - accuracy: 0.8013\n",
      "Epoch 71/100\n",
      "614/614 - 0s - loss: 0.4118 - accuracy: 0.7997\n",
      "Epoch 72/100\n",
      "614/614 - 0s - loss: 0.4098 - accuracy: 0.8013\n",
      "Epoch 73/100\n",
      "614/614 - 0s - loss: 0.4094 - accuracy: 0.7997\n",
      "Epoch 74/100\n",
      "614/614 - 0s - loss: 0.4105 - accuracy: 0.8062\n",
      "Epoch 75/100\n",
      "614/614 - 0s - loss: 0.4100 - accuracy: 0.8013\n",
      "Epoch 76/100\n",
      "614/614 - 0s - loss: 0.4101 - accuracy: 0.7997\n",
      "Epoch 77/100\n",
      "614/614 - 0s - loss: 0.4072 - accuracy: 0.7980\n",
      "Epoch 78/100\n",
      "614/614 - 0s - loss: 0.4048 - accuracy: 0.8046\n",
      "Epoch 79/100\n",
      "614/614 - 0s - loss: 0.4057 - accuracy: 0.8013\n",
      "Epoch 80/100\n",
      "614/614 - 0s - loss: 0.4057 - accuracy: 0.8078\n",
      "Epoch 81/100\n",
      "614/614 - 0s - loss: 0.4052 - accuracy: 0.8062\n",
      "Epoch 82/100\n",
      "614/614 - 0s - loss: 0.4051 - accuracy: 0.8127\n",
      "Epoch 83/100\n",
      "614/614 - 0s - loss: 0.4043 - accuracy: 0.8062\n",
      "Epoch 84/100\n",
      "614/614 - 0s - loss: 0.4031 - accuracy: 0.8094\n",
      "Epoch 85/100\n",
      "614/614 - 0s - loss: 0.4034 - accuracy: 0.8094\n",
      "Epoch 86/100\n",
      "614/614 - 0s - loss: 0.4006 - accuracy: 0.8029\n",
      "Epoch 87/100\n",
      "614/614 - 0s - loss: 0.4024 - accuracy: 0.8046\n",
      "Epoch 88/100\n",
      "614/614 - 0s - loss: 0.4005 - accuracy: 0.8176\n",
      "Epoch 89/100\n",
      "614/614 - 0s - loss: 0.3998 - accuracy: 0.8111\n",
      "Epoch 90/100\n",
      "614/614 - 0s - loss: 0.4020 - accuracy: 0.8094\n",
      "Epoch 91/100\n",
      "614/614 - 0s - loss: 0.3994 - accuracy: 0.8127\n",
      "Epoch 92/100\n",
      "614/614 - 0s - loss: 0.3973 - accuracy: 0.8078\n",
      "Epoch 93/100\n",
      "614/614 - 0s - loss: 0.3978 - accuracy: 0.8127\n",
      "Epoch 94/100\n",
      "614/614 - 0s - loss: 0.3957 - accuracy: 0.8160\n",
      "Epoch 95/100\n",
      "614/614 - 0s - loss: 0.3972 - accuracy: 0.8176\n",
      "Epoch 96/100\n",
      "614/614 - 0s - loss: 0.3984 - accuracy: 0.8111\n",
      "Epoch 97/100\n",
      "614/614 - 0s - loss: 0.3952 - accuracy: 0.8127\n",
      "Epoch 98/100\n",
      "614/614 - 0s - loss: 0.3933 - accuracy: 0.8111\n",
      "Epoch 99/100\n",
      "614/614 - 0s - loss: 0.3946 - accuracy: 0.8111\n",
      "Epoch 100/100\n",
      "614/614 - 0s - loss: 0.3954 - accuracy: 0.8160\n"
     ]
    },
    {
     "data": {
      "text/plain": [
       "<tensorflow.python.keras.callbacks.History at 0x23e5107f548>"
      ]
     },
     "execution_count": 3,
     "metadata": {},
     "output_type": "execute_result"
    }
   ],
   "source": [
    "# your code here ...\n",
    "model = Sequential()\n",
    "model.add(Dense(32, input_shape=(8,), activation='softmax'))\n",
    "model.add(Dense(16, activation='relu'))\n",
    "model.add(Dense(8, activation='relu'))\n",
    "model.add(Dense(1, activation='sigmoid'))\n",
    "model.compile(optimizer = 'Adam',\n",
    "             loss='binary_crossentropy',\n",
    "             metrics=['accuracy'])\n",
    "\n",
    "model.fit(X_train, y_train, epochs=100, verbose=2, batch_size=10)"
   ]
  },
  {
   "cell_type": "markdown",
   "metadata": {},
   "source": [
    "### 2. Analysis"
   ]
  },
  {
   "cell_type": "code",
   "execution_count": 4,
   "metadata": {},
   "outputs": [
    {
     "name": "stdout",
     "output_type": "stream",
     "text": [
      "              precision    recall  f1-score   support\n",
      "\n",
      "           0       0.87      0.90      0.89       100\n",
      "           1       0.80      0.76      0.78        54\n",
      "\n",
      "   micro avg       0.85      0.85      0.85       154\n",
      "   macro avg       0.84      0.83      0.83       154\n",
      "weighted avg       0.85      0.85      0.85       154\n",
      "\n"
     ]
    }
   ],
   "source": [
    "# your code here ...\n",
    "from sklearn.metrics import classification_report\n",
    "\n",
    "y_pred = model.predict(X_test)\n",
    "y_pred = (y_pred > 0.5)\n",
    "print(classification_report(y_test, y_pred))"
   ]
  },
  {
   "cell_type": "code",
   "execution_count": 5,
   "metadata": {},
   "outputs": [
    {
     "data": {
      "text/html": [
       "<div>\n",
       "<style scoped>\n",
       "    .dataframe tbody tr th:only-of-type {\n",
       "        vertical-align: middle;\n",
       "    }\n",
       "\n",
       "    .dataframe tbody tr th {\n",
       "        vertical-align: top;\n",
       "    }\n",
       "\n",
       "    .dataframe thead th {\n",
       "        text-align: right;\n",
       "    }\n",
       "</style>\n",
       "<table border=\"1\" class=\"dataframe\">\n",
       "  <thead>\n",
       "    <tr style=\"text-align: right;\">\n",
       "      <th></th>\n",
       "      <th>0</th>\n",
       "      <th>1</th>\n",
       "    </tr>\n",
       "  </thead>\n",
       "  <tbody>\n",
       "    <tr>\n",
       "      <th>0</th>\n",
       "      <td>90</td>\n",
       "      <td>10</td>\n",
       "    </tr>\n",
       "    <tr>\n",
       "      <th>1</th>\n",
       "      <td>13</td>\n",
       "      <td>41</td>\n",
       "    </tr>\n",
       "  </tbody>\n",
       "</table>\n",
       "</div>"
      ],
      "text/plain": [
       "    0   1\n",
       "0  90  10\n",
       "1  13  41"
      ]
     },
     "execution_count": 5,
     "metadata": {},
     "output_type": "execute_result"
    }
   ],
   "source": [
    "cm = confusion_matrix(y_test, y_pred)\n",
    "\n",
    "pd.DataFrame(cm)"
   ]
  },
  {
   "cell_type": "code",
   "execution_count": 6,
   "metadata": {},
   "outputs": [
    {
     "data": {
      "text/plain": [
       "<matplotlib.image.AxesImage at 0x23e5235c308>"
      ]
     },
     "execution_count": 6,
     "metadata": {},
     "output_type": "execute_result"
    },
    {
     "data": {
      "image/png": "[encoded data removed]",
      "text/plain": [
       "<Figure size 432x288 with 1 Axes>"
      ]
     },
     "metadata": {
      "needs_background": "light"
     },
     "output_type": "display_data"
    }
   ],
   "source": [
    "plt.imshow(cm, cmap='Blues')"
   ]
  }
 ],
 "metadata": {
  "kernelspec": {
   "display_name": "Python 3",
   "language": "python",
   "name": "python3"
  },
  "language_info": {
   "codemirror_mode": {
    "name": "ipython",
    "version": 3
   },
   "file_extension": ".py",
   "mimetype": "text/x-python",
   "name": "python",
   "nbconvert_exporter": "python",
   "pygments_lexer": "ipython3",
   "version": "3.7.4"
  }
 },
 "nbformat": 4,
 "nbformat_minor": 2
}
