{
 "cells": [
  {
   "cell_type": "markdown",
   "metadata": {},
   "source": [
    "# CS 4820\n",
    "# Assignment 1\n",
    "## Due: 2:00pm, 09/04/2019\n",
    "\n",
    "### What to turn in?\n",
    "\n",
    "After completing both problems below, zip up __the outer folder__ that contains this notebook (a1.ipynb) and the assets folder, name it __a1_your_full_name.zip__ and submit it on BlazeVIW.\n",
    "\n",
    "### Problem 1\n",
    "\n",
    "Let's practice a little bit more with `numpy`:"
   ]
  },
  {
   "cell_type": "code",
   "execution_count": 1,
   "metadata": {},
   "outputs": [],
   "source": [
    "import numpy as np\n",
    "\n",
    "# allow multiple outputs be displayed for each cell\n",
    "from IPython.core.interactiveshell import InteractiveShell\n",
    "InteractiveShell.ast_node_interactivity = \"all\""
   ]
  },
  {
   "cell_type": "markdown",
   "metadata": {},
   "source": [
    "1.1 Generate an array of zeros with `shape=(10, 10)`, call it `a`\n",
    "\n",
    "```\n",
    "array([[0., 0., 0., 0., 0., 0., 0., 0., 0., 0.],\n",
    "       [0., 0., 0., 0., 0., 0., 0., 0., 0., 0.],\n",
    "       [0., 0., 0., 0., 0., 0., 0., 0., 0., 0.],\n",
    "       [0., 0., 0., 0., 0., 0., 0., 0., 0., 0.],\n",
    "       [0., 0., 0., 0., 0., 0., 0., 0., 0., 0.],\n",
    "       [0., 0., 0., 0., 0., 0., 0., 0., 0., 0.],\n",
    "       [0., 0., 0., 0., 0., 0., 0., 0., 0., 0.],\n",
    "       [0., 0., 0., 0., 0., 0., 0., 0., 0., 0.],\n",
    "       [0., 0., 0., 0., 0., 0., 0., 0., 0., 0.],\n",
    "       [0., 0., 0., 0., 0., 0., 0., 0., 0., 0.]])\n",
    "```\n",
    "   Hint: use the built-in function `np.zeros()`"
   ]
  },
  {
   "cell_type": "code",
   "execution_count": 2,
   "metadata": {},
   "outputs": [
    {
     "data": {
      "text/plain": [
       "array([[0., 0., 0., 0., 0., 0., 0., 0., 0., 0.],\n",
       "       [0., 0., 0., 0., 0., 0., 0., 0., 0., 0.],\n",
       "       [0., 0., 0., 0., 0., 0., 0., 0., 0., 0.],\n",
       "       [0., 0., 0., 0., 0., 0., 0., 0., 0., 0.],\n",
       "       [0., 0., 0., 0., 0., 0., 0., 0., 0., 0.],\n",
       "       [0., 0., 0., 0., 0., 0., 0., 0., 0., 0.],\n",
       "       [0., 0., 0., 0., 0., 0., 0., 0., 0., 0.],\n",
       "       [0., 0., 0., 0., 0., 0., 0., 0., 0., 0.],\n",
       "       [0., 0., 0., 0., 0., 0., 0., 0., 0., 0.],\n",
       "       [0., 0., 0., 0., 0., 0., 0., 0., 0., 0.]])"
      ]
     },
     "execution_count": 2,
     "metadata": {},
     "output_type": "execute_result"
    }
   ],
   "source": [
    "# Your code here...\n",
    "\n",
    "a = np.zeros((10, 10))\n",
    "a"
   ]
  },
  {
   "cell_type": "markdown",
   "metadata": {},
   "source": [
    "1.2 Set every other element of `a` to 1, both along columns and rows, so that you obtain a nice checkerboard pattern of zeros and ones\n",
    "\n",
    "```\n",
    "array([[1., 0., 1., 0., 1., 0., 1., 0., 1., 0.],\n",
    "       [0., 1., 0., 1., 0., 1., 0., 1., 0., 1.],\n",
    "       [1., 0., 1., 0., 1., 0., 1., 0., 1., 0.],\n",
    "       [0., 1., 0., 1., 0., 1., 0., 1., 0., 1.],\n",
    "       [1., 0., 1., 0., 1., 0., 1., 0., 1., 0.],\n",
    "       [0., 1., 0., 1., 0., 1., 0., 1., 0., 1.],\n",
    "       [1., 0., 1., 0., 1., 0., 1., 0., 1., 0.],\n",
    "       [0., 1., 0., 1., 0., 1., 0., 1., 0., 1.],\n",
    "       [1., 0., 1., 0., 1., 0., 1., 0., 1., 0.],\n",
    "       [0., 1., 0., 1., 0., 1., 0., 1., 0., 1.]])\n",
    "```\n",
    "    \n",
    "    Hint: use stride."
   ]
  },
  {
   "cell_type": "code",
   "execution_count": 3,
   "metadata": {},
   "outputs": [
    {
     "data": {
      "text/plain": [
       "array([[1., 0., 1., 0., 1., 0., 1., 0., 1., 0.],\n",
       "       [0., 1., 0., 1., 0., 1., 0., 1., 0., 1.],\n",
       "       [1., 0., 1., 0., 1., 0., 1., 0., 1., 0.],\n",
       "       [0., 1., 0., 1., 0., 1., 0., 1., 0., 1.],\n",
       "       [1., 0., 1., 0., 1., 0., 1., 0., 1., 0.],\n",
       "       [0., 1., 0., 1., 0., 1., 0., 1., 0., 1.],\n",
       "       [1., 0., 1., 0., 1., 0., 1., 0., 1., 0.],\n",
       "       [0., 1., 0., 1., 0., 1., 0., 1., 0., 1.],\n",
       "       [1., 0., 1., 0., 1., 0., 1., 0., 1., 0.],\n",
       "       [0., 1., 0., 1., 0., 1., 0., 1., 0., 1.]])"
      ]
     },
     "execution_count": 3,
     "metadata": {},
     "output_type": "execute_result"
    }
   ],
   "source": [
    "# Your code here...\n",
    "a[0::2, 0::2] = 1\n",
    "a[1::2, 1::2] = 1\n",
    "a\n"
   ]
  },
  {
   "cell_type": "markdown",
   "metadata": {},
   "source": [
    "1.3 Generate a second array to be the sequence from 5 included to 15 excluded, call it `b`\n",
    "\n",
    "```\n",
    "array([ 5,  6,  7,  8,  9, 10, 11, 12, 13, 14])\n",
    "```\n",
    "  \n",
    "  Hint:  use the built-in function `np.arange()`"
   ]
  },
  {
   "cell_type": "code",
   "execution_count": 86,
   "metadata": {},
   "outputs": [
    {
     "data": {
      "text/plain": [
       "array([[ 5,  6,  7,  8,  9, 10, 11, 12, 13, 14]])"
      ]
     },
     "execution_count": 86,
     "metadata": {},
     "output_type": "execute_result"
    }
   ],
   "source": [
    "# Your code here...\n",
    "\n",
    "b = np.arange(5, 15)[np.newaxis]\n",
    "b"
   ]
  },
  {
   "cell_type": "markdown",
   "metadata": {},
   "source": [
    "1.4 multiply `a` times `b` in such a way that the first row of `a` is an alternation of zeros and fives, the second row is an alternation of zeros and sixes and so on. Call this new array `c`. \n",
    "\n",
    "```\n",
    "array([[ 5.,  0.,  5.,  0.,  5.,  0.,  5.,  0.,  5.,  0.],\n",
    "       [ 0.,  6.,  0.,  6.,  0.,  6.,  0.,  6.,  0.,  6.],\n",
    "       [ 7.,  0.,  7.,  0.,  7.,  0.,  7.,  0.,  7.,  0.],\n",
    "       [ 0.,  8.,  0.,  8.,  0.,  8.,  0.,  8.,  0.,  8.],\n",
    "       [ 9.,  0.,  9.,  0.,  9.,  0.,  9.,  0.,  9.,  0.],\n",
    "       [ 0., 10.,  0., 10.,  0., 10.,  0., 10.,  0., 10.],\n",
    "       [11.,  0., 11.,  0., 11.,  0., 11.,  0., 11.,  0.],\n",
    "       [ 0., 12.,  0., 12.,  0., 12.,  0., 12.,  0., 12.],\n",
    "       [13.,  0., 13.,  0., 13.,  0., 13.,  0., 13.,  0.],\n",
    "       [ 0., 14.,  0., 14.,  0., 14.,  0., 14.,  0., 14.]])\n",
    "```\n",
    "\n",
    "   Hint: to complete this part, you will have to reshape `b` as a column array first."
   ]
  },
  {
   "cell_type": "code",
   "execution_count": 87,
   "metadata": {},
   "outputs": [
    {
     "data": {
      "text/plain": [
       "array([[ 5.,  0.,  5.,  0.,  5.,  0.,  5.,  0.,  5.,  0.],\n",
       "       [ 0.,  6.,  0.,  6.,  0.,  6.,  0.,  6.,  0.,  6.],\n",
       "       [ 7.,  0.,  7.,  0.,  7.,  0.,  7.,  0.,  7.,  0.],\n",
       "       [ 0.,  8.,  0.,  8.,  0.,  8.,  0.,  8.,  0.,  8.],\n",
       "       [ 9.,  0.,  9.,  0.,  9.,  0.,  9.,  0.,  9.,  0.],\n",
       "       [ 0., 10.,  0., 10.,  0., 10.,  0., 10.,  0., 10.],\n",
       "       [11.,  0., 11.,  0., 11.,  0., 11.,  0., 11.,  0.],\n",
       "       [ 0., 12.,  0., 12.,  0., 12.,  0., 12.,  0., 12.],\n",
       "       [13.,  0., 13.,  0., 13.,  0., 13.,  0., 13.,  0.],\n",
       "       [ 0., 14.,  0., 14.,  0., 14.,  0., 14.,  0., 14.]])"
      ]
     },
     "execution_count": 87,
     "metadata": {},
     "output_type": "execute_result"
    }
   ],
   "source": [
    "# Your code here...\n",
    "b = b.T\n",
    "c = b*a\n",
    "c"
   ]
  },
  {
   "cell_type": "markdown",
   "metadata": {},
   "source": [
    "1.5 calculate the `mean` and the `standard deviation` of `c` along rows and columns\n",
    "\n",
    "```\n",
    "Mean along rows:\n",
    "array([4.5, 5. , 4.5, 5. , 4.5, 5. , 4.5, 5. , 4.5, 5. ])\n",
    "\n",
    "Standard deviation along rows:\n",
    "array([4.9244289 , 5.38516481, 4.9244289 , 5.38516481, 4.9244289 ,\n",
    "       5.38516481, 4.9244289 , 5.38516481, 4.9244289 , 5.38516481])\n",
    "       \n",
    "Mean along columns:\n",
    "array([2.5, 3. , 3.5, 4. , 4.5, 5. , 5.5, 6. , 6.5, 7. ])\n",
    "\n",
    "Standard deviation along columns:\n",
    "array([2.5, 3. , 3.5, 4. , 4.5, 5. , 5.5, 6. , 6.5, 7. ])\n",
    "```\n",
    "\n",
    "Hint: look up the built-in `mean` and `std` functions and use them."
   ]
  },
  {
   "cell_type": "code",
   "execution_count": 88,
   "metadata": {},
   "outputs": [
    {
     "name": "stdout",
     "output_type": "stream",
     "text": [
      "Mean along rows:\n"
     ]
    },
    {
     "data": {
      "text/plain": [
       "array([4.5, 5. , 4.5, 5. , 4.5, 5. , 4.5, 5. , 4.5, 5. ])"
      ]
     },
     "execution_count": 88,
     "metadata": {},
     "output_type": "execute_result"
    },
    {
     "name": "stdout",
     "output_type": "stream",
     "text": [
      "Standard deviation along rows:\n"
     ]
    },
    {
     "data": {
      "text/plain": [
       "array([4.9244289 , 5.38516481, 4.9244289 , 5.38516481, 4.9244289 ,\n",
       "       5.38516481, 4.9244289 , 5.38516481, 4.9244289 , 5.38516481])"
      ]
     },
     "execution_count": 88,
     "metadata": {},
     "output_type": "execute_result"
    },
    {
     "name": "stdout",
     "output_type": "stream",
     "text": [
      "Mean along columns:\n"
     ]
    },
    {
     "data": {
      "text/plain": [
       "array([2.5, 3. , 3.5, 4. , 4.5, 5. , 5.5, 6. , 6.5, 7. ])"
      ]
     },
     "execution_count": 88,
     "metadata": {},
     "output_type": "execute_result"
    },
    {
     "name": "stdout",
     "output_type": "stream",
     "text": [
      "Standard deviation along columns:\n"
     ]
    },
    {
     "data": {
      "text/plain": [
       "array([2.5, 3. , 3.5, 4. , 4.5, 5. , 5.5, 6. , 6.5, 7. ])"
      ]
     },
     "execution_count": 88,
     "metadata": {},
     "output_type": "execute_result"
    }
   ],
   "source": [
    "# Your code here...\n",
    "print('Mean along rows:')\n",
    "np.mean(c, axis=0)\n",
    "print('Standard deviation along rows:')\n",
    "np.std(c, axis=0)\n",
    "\n",
    "print('Mean along columns:')\n",
    "np.mean(c, axis=1)\n",
    "print('Standard deviation along columns:')\n",
    "np.std(c, axis=1)\n"
   ]
  },
  {
   "cell_type": "markdown",
   "metadata": {},
   "source": [
    "1.6 Create a new array of `shape=(10, 5)` and fill it with the __non-zero values__ of `c`, call it `d`.\n",
    "\n",
    "```\n",
    "array([[ 5.,  5.,  5.,  5.,  5.],\n",
    "       [ 6.,  6.,  6.,  6.,  6.],\n",
    "       [ 7.,  7.,  7.,  7.,  7.],\n",
    "       [ 8.,  8.,  8.,  8.,  8.],\n",
    "       [ 9.,  9.,  9.,  9.,  9.],\n",
    "       [10., 10., 10., 10., 10.],\n",
    "       [11., 11., 11., 11., 11.],\n",
    "       [12., 12., 12., 12., 12.],\n",
    "       [13., 13., 13., 13., 13.],\n",
    "       [14., 14., 14., 14., 14.]])\n",
    "```\n",
    "\n",
    "   Hint: Search for positive values from `c` by putting the search criteron between brackets `c[c>0]`, then reshape the resultant array to a 10 by 5 matrix"
   ]
  },
  {
   "cell_type": "code",
   "execution_count": 89,
   "metadata": {},
   "outputs": [
    {
     "data": {
      "text/plain": [
       "array([[ 5.,  5.,  5.,  5.,  5.],\n",
       "       [ 6.,  6.,  6.,  6.,  6.],\n",
       "       [ 7.,  7.,  7.,  7.,  7.],\n",
       "       [ 8.,  8.,  8.,  8.,  8.],\n",
       "       [ 9.,  9.,  9.,  9.,  9.],\n",
       "       [10., 10., 10., 10., 10.],\n",
       "       [11., 11., 11., 11., 11.],\n",
       "       [12., 12., 12., 12., 12.],\n",
       "       [13., 13., 13., 13., 13.],\n",
       "       [14., 14., 14., 14., 14.]])"
      ]
     },
     "execution_count": 89,
     "metadata": {},
     "output_type": "execute_result"
    }
   ],
   "source": [
    "# Your code here...\n",
    "d = c[c>0].reshape(10, 5)\n",
    "d\n"
   ]
  },
  {
   "cell_type": "markdown",
   "metadata": {},
   "source": [
    "1.7 Add random Gaussian noise to `d`, centered in zero and with a standard deviation of 0.1, call this new array `e`\n",
    "\n",
    "```\n",
    "array([[ 5.04262614,  5.12836023,  4.92075733,  5.18776641,  5.06115612],\n",
    "       [ 5.86840848,  6.11296072,  6.0949343 ,  6.00592642,  6.18533571],\n",
    "       [ 7.00722348,  7.04011868,  6.92968581,  7.01195513,  7.10590961],\n",
    "       [ 8.10696374,  7.92359695,  7.86031293,  8.14372865,  8.0750552 ],\n",
    "       [ 8.97658066,  8.99923218,  9.17782159,  8.95226642,  9.11942008],\n",
    "       [10.18134311,  9.96613087, 10.05406139,  9.92902838, 10.05815602],\n",
    "       [11.01557062, 11.13126809, 11.121203  , 10.87895468, 11.07878569],\n",
    "       [12.08773031, 12.10942016, 11.79747914, 11.88001042, 11.96105573],\n",
    "       [13.00080684, 13.06190414, 12.97716722, 13.06700925, 12.97499967],\n",
    "       [13.97815112, 14.06921442, 14.09094489, 13.87273029, 14.00924989]])\n",
    "```\n",
    "   Hint: look up the built-in function `np.random.normal` to create the noise matrix, then add it to `d` to create `e`."
   ]
  },
  {
   "cell_type": "code",
   "execution_count": 90,
   "metadata": {},
   "outputs": [
    {
     "data": {
      "text/plain": [
       "array([[ 4.84879785,  5.12125426,  5.03674831,  4.93268747,  4.86378153],\n",
       "       [ 5.8949757 ,  6.04639202,  5.95080739,  6.18960173,  5.9714598 ],\n",
       "       [ 6.96946557,  6.69859884,  7.09609007,  7.08084717,  7.17486854],\n",
       "       [ 8.0767847 ,  7.77605073,  7.94609787,  7.86378   ,  8.04080861],\n",
       "       [ 9.09540429,  8.8903804 ,  8.97794518,  9.10761328,  8.92252314],\n",
       "       [ 9.81371085,  9.90675663, 10.03410842,  9.94199035,  9.82416809],\n",
       "       [10.99744323, 10.96994843, 11.07125307, 10.91054352, 10.7335781 ],\n",
       "       [12.07287767, 12.12562721, 12.08541027, 12.10770489, 12.03644335],\n",
       "       [13.04907025, 13.27471122, 13.08183216, 13.04906538, 13.02874428],\n",
       "       [13.99730665, 14.14104061, 14.10840025, 13.90915235, 14.01086135]])"
      ]
     },
     "execution_count": 90,
     "metadata": {},
     "output_type": "execute_result"
    }
   ],
   "source": [
    "# Your code here...\n",
    "noise = np.random.normal(0, .1, (10, 5))\n",
    "e = d + noise\n",
    "e\n"
   ]
  },
  {
   "cell_type": "markdown",
   "metadata": {},
   "source": [
    "### Problem 2\n",
    "\n",
    "Practice plotting with `matplotlib`:"
   ]
  },
  {
   "cell_type": "code",
   "execution_count": 91,
   "metadata": {},
   "outputs": [],
   "source": [
    "import matplotlib.pyplot as plt"
   ]
  },
  {
   "cell_type": "markdown",
   "metadata": {},
   "source": [
    "2.1 Use `plt.imshow()` to display the array `a` as an image, does it look like a checkerboard?\n",
    "\n",
    "![chekerboard](./assets/2.1.png)"
   ]
  },
  {
   "cell_type": "code",
   "execution_count": 92,
   "metadata": {},
   "outputs": [
    {
     "data": {
      "text/plain": [
       "<matplotlib.image.AxesImage at 0x1fb0f9a30c8>"
      ]
     },
     "execution_count": 92,
     "metadata": {},
     "output_type": "execute_result"
    },
    {
     "data": {
      "image/png": "[encoded data removed]",
      "text/plain": [
       "<Figure size 432x288 with 1 Axes>"
      ]
     },
     "metadata": {
      "needs_background": "light"
     },
     "output_type": "display_data"
    }
   ],
   "source": [
    "# Your code here...\n",
    "plt.imshow(a)\n"
   ]
  },
  {
   "cell_type": "markdown",
   "metadata": {},
   "source": [
    "2.2 display c, d and e using the same function, change the colormap to grayscale\n",
    "\n",
    "Hint: loop up the imshow function to find out how to change the colormap.\n",
    "\n",
    "For c:\n",
    "\n",
    "![c](./assets/2.2.c.png)\n",
    "\n",
    "For d:\n",
    "\n",
    "![d](./assets/2.2.d.png)\n",
    "\n",
    "For e:\n",
    "\n",
    "![e](./assets/2.2.e.png)"
   ]
  },
  {
   "cell_type": "code",
   "execution_count": 93,
   "metadata": {},
   "outputs": [
    {
     "data": {
      "text/plain": [
       "<matplotlib.image.AxesImage at 0x1fb0f9fab88>"
      ]
     },
     "execution_count": 93,
     "metadata": {},
     "output_type": "execute_result"
    },
    {
     "data": {
      "image/png": "[encoded data removed]",
      "text/plain": [
       "<Figure size 432x288 with 1 Axes>"
      ]
     },
     "metadata": {
      "needs_background": "light"
     },
     "output_type": "display_data"
    }
   ],
   "source": [
    "# Your code here...\n",
    "plt.imshow(c, cmap='gray_r')\n"
   ]
  },
  {
   "cell_type": "code",
   "execution_count": 94,
   "metadata": {},
   "outputs": [
    {
     "data": {
      "text/plain": [
       "<matplotlib.image.AxesImage at 0x1fb10a24948>"
      ]
     },
     "execution_count": 94,
     "metadata": {},
     "output_type": "execute_result"
    },
    {
     "data": {
      "image/png": "[encoded data removed]",
      "text/plain": [
       "<Figure size 432x288 with 1 Axes>"
      ]
     },
     "metadata": {
      "needs_background": "light"
     },
     "output_type": "display_data"
    }
   ],
   "source": [
    "# Your code here...\n",
    "plt.imshow(d, cmap='gray_r')\n",
    "\n"
   ]
  },
  {
   "cell_type": "code",
   "execution_count": 95,
   "metadata": {},
   "outputs": [
    {
     "data": {
      "text/plain": [
       "<matplotlib.image.AxesImage at 0x1fb10a79488>"
      ]
     },
     "execution_count": 95,
     "metadata": {},
     "output_type": "execute_result"
    },
    {
     "data": {
      "image/png": "[encoded data removed]",
      "text/plain": [
       "<Figure size 432x288 with 1 Axes>"
      ]
     },
     "metadata": {
      "needs_background": "light"
     },
     "output_type": "display_data"
    }
   ],
   "source": [
    "# Your code here...\n",
    "plt.imshow(e, cmap='gray_r')\n",
    "\n"
   ]
  }
 ],
 "metadata": {
  "kernelspec": {
   "display_name": "Python 3",
   "language": "python",
   "name": "python3"
  },
  "language_info": {
   "codemirror_mode": {
    "name": "ipython",
    "version": 3
   },
   "file_extension": ".py",
   "mimetype": "text/x-python",
   "name": "python",
   "nbconvert_exporter": "python",
   "pygments_lexer": "ipython3",
   "version": "3.7.4"
  }
 },
 "nbformat": 4,
 "nbformat_minor": 2
}
