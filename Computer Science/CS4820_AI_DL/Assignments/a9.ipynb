{
 "cells": [
  {
   "cell_type": "markdown",
   "metadata": {},
   "source": [
    "# CS 4820\n",
    "# Assignment 9: Padding, Stride, and Pooling in Convolution"
   ]
  },
  {
   "cell_type": "markdown",
   "metadata": {},
   "source": [
    "### Load a Color Image"
   ]
  },
  {
   "cell_type": "code",
   "execution_count": 1,
   "metadata": {},
   "outputs": [],
   "source": [
    "# allow multiple outputs be displayed for each cell\n",
    "from IPython.core.interactiveshell import InteractiveShell\n",
    "InteractiveShell.ast_node_interactivity = \"all\""
   ]
  },
  {
   "cell_type": "markdown",
   "metadata": {},
   "source": [
    "Load the color image `face` from from [`scipy.misc`](https://docs.scipy.org/doc/scipy/reference/misc.html) plot it as a 9*12 picture.\n",
    "\n",
    "![raccoon](./assets/raccoon.png)\n",
    "\n",
    "Reshape the image such that it is convolution-ready. Note: since `face` is a RGB color image, it has __three color channels__."
   ]
  },
  {
   "cell_type": "code",
   "execution_count": 2,
   "metadata": {},
   "outputs": [],
   "source": [
    "from scipy import misc\n",
    "from tensorflow.keras.layers import Conv2D\n",
    "from tensorflow.keras.models import Sequential\n",
    "\n",
    "\n",
    "img = misc.face()\n",
    "img_tensor = img.reshape((1, 768, 1024, 3))"
   ]
  },
  {
   "cell_type": "markdown",
   "metadata": {},
   "source": [
    "### One convolutional Layer with (default) valid padding and 1 stride\n",
    "\n",
    "Convolve the `face` image you loaded above with a model of one convolutional layer:\n",
    "\n",
    "- 2 fiters\n",
    "- each filter of size $9 * 12$\n",
    "- each filter is initialized with `RandomUniform` and uses `relu` activation function\n",
    "- default padding (valid) and strides (1,1)"
   ]
  },
  {
   "cell_type": "code",
   "execution_count": 3,
   "metadata": {
    "scrolled": true
   },
   "outputs": [
    {
     "name": "stdout",
     "output_type": "stream",
     "text": [
      "Model: \"sequential\"\n",
      "_________________________________________________________________\n",
      "Layer (type)                 Output Shape              Param #   \n",
      "=================================================================\n",
      "conv2d (Conv2D)              (None, 760, 1013, 2)      650       \n",
      "=================================================================\n",
      "Total params: 650\n",
      "Trainable params: 650\n",
      "Non-trainable params: 0\n",
      "_________________________________________________________________\n"
     ]
    }
   ],
   "source": [
    "model = Sequential()\n",
    "model.add(Conv2D(2, (9, 12), \n",
    "                 kernel_initializer='RandomUniform', \n",
    "                 activation='relu',\n",
    "                input_shape=(768, 1024, 3)))\n",
    "model.compile('adam', 'mse')\n",
    "model.summary()"
   ]
  },
  {
   "cell_type": "markdown",
   "metadata": {},
   "source": [
    "__Q: Why `Output Shape = (None, 760, 1013, 2)`?__\n",
    "\n",
    "__A:__ \n",
    "\n",
    "$$ height = \\lceil \\frac{i_v - f_v + 1}{s_v} \\rceil = \\lceil \\frac{768 - 9 + 1}{1} \\rceil = 760 $$\n",
    "\n",
    "$$ width = \\lceil \\frac{i_h - f_h + 1}{s_h} \\rceil = \\lceil \\frac{1024 - 12 + 1}{1} \\rceil = 1013 $$\n",
    "\n",
    "$$ \\# of Output Channels = \\# of Convolutional Neurons in our single layer = 2 $$"
   ]
  },
  {
   "cell_type": "markdown",
   "metadata": {},
   "source": [
    "### One convolutional Layer with (default) valid padding and larger stride\n",
    "\n",
    "Now, let's set `strides = (8,3)` while holding padding as `valid` (default)"
   ]
  },
  {
   "cell_type": "code",
   "execution_count": 4,
   "metadata": {},
   "outputs": [
    {
     "name": "stdout",
     "output_type": "stream",
     "text": [
      "Model: \"sequential_1\"\n",
      "_________________________________________________________________\n",
      "Layer (type)                 Output Shape              Param #   \n",
      "=================================================================\n",
      "conv2d_1 (Conv2D)            (None, 95, 338, 2)        650       \n",
      "=================================================================\n",
      "Total params: 650\n",
      "Trainable params: 650\n",
      "Non-trainable params: 0\n",
      "_________________________________________________________________\n"
     ]
    }
   ],
   "source": [
    "model = Sequential()\n",
    "model.add(Conv2D(2, (9, 12), \n",
    "                 kernel_initializer='RandomUniform', \n",
    "                 activation='relu',\n",
    "                input_shape=(768, 1024, 3),\n",
    "                strides=(8, 3)))\n",
    "model.compile('adam', 'mse')\n",
    "model.summary()"
   ]
  },
  {
   "cell_type": "markdown",
   "metadata": {},
   "source": [
    "__Q: Why `Output Shape = (None, 95, 338, 2)`?__\n",
    "\n",
    "__A:__ \n",
    "\n",
    "$$ height = \\lceil \\frac{i_v - f_v + 1}{s_v} \\rceil = \\lceil \\frac{768 - 9 + 1}{8} \\rceil = 95 $$\n",
    "\n",
    "$$ width = \\lceil \\frac{i_h - f_h + 1}{s_h} \\rceil = \\lceil \\frac{1024 - 12 + 1}{3} \\rceil = 338 $$\n",
    "\n",
    "$$ \\# of Output Channels = \\# of Convolutional Neurons in our single layer = 2 $$"
   ]
  },
  {
   "cell_type": "markdown",
   "metadata": {},
   "source": [
    "### One convolutional Layer with same padding and 1 stride"
   ]
  },
  {
   "cell_type": "code",
   "execution_count": 5,
   "metadata": {},
   "outputs": [
    {
     "name": "stdout",
     "output_type": "stream",
     "text": [
      "Model: \"sequential_2\"\n",
      "_________________________________________________________________\n",
      "Layer (type)                 Output Shape              Param #   \n",
      "=================================================================\n",
      "conv2d_2 (Conv2D)            (None, 768, 1024, 2)      650       \n",
      "=================================================================\n",
      "Total params: 650\n",
      "Trainable params: 650\n",
      "Non-trainable params: 0\n",
      "_________________________________________________________________\n"
     ]
    }
   ],
   "source": [
    "model = Sequential()\n",
    "model.add(Conv2D(2, (9, 12), \n",
    "                 kernel_initializer='RandomUniform', \n",
    "                 activation='relu',\n",
    "                input_shape=(768, 1024, 3),\n",
    "                padding='same'))\n",
    "model.compile('adam', 'mse')\n",
    "model.summary()"
   ]
  },
  {
   "cell_type": "markdown",
   "metadata": {},
   "source": [
    "__Q: Why `Output Shape = (None, 768, 1024, 2)`?__\n",
    "\n",
    "__A:__ \n",
    "\n",
    "$$ height = \\lceil \\frac{i_v}{s_v} \\rceil = \\lceil \\frac{768}{1} \\rceil = 768 $$\n",
    "\n",
    "$$ width = \\lceil \\frac{i_h}{s_h} \\rceil = \\lceil \\frac{1024}{1} \\rceil = 1024 $$\n",
    "\n",
    "$$ \\# of Output Channels = \\# of Convolutional Neurons in our single layer = 2 $$"
   ]
  },
  {
   "cell_type": "markdown",
   "metadata": {},
   "source": [
    "### One convolutional Layer with same padding and larger stride\n",
    "Now, let's set `strides = (8,3)` while setting padding as `same`"
   ]
  },
  {
   "cell_type": "code",
   "execution_count": 6,
   "metadata": {},
   "outputs": [
    {
     "name": "stdout",
     "output_type": "stream",
     "text": [
      "Model: \"sequential_3\"\n",
      "_________________________________________________________________\n",
      "Layer (type)                 Output Shape              Param #   \n",
      "=================================================================\n",
      "conv2d_3 (Conv2D)            (None, 96, 342, 2)        650       \n",
      "=================================================================\n",
      "Total params: 650\n",
      "Trainable params: 650\n",
      "Non-trainable params: 0\n",
      "_________________________________________________________________\n"
     ]
    }
   ],
   "source": [
    "model = Sequential()\n",
    "model.add(Conv2D(2, (9, 12), \n",
    "                 kernel_initializer='RandomUniform', \n",
    "                 activation='relu',\n",
    "                input_shape=(768, 1024, 3),\n",
    "                padding = 'same',\n",
    "                strides = (8, 3)))\n",
    "model.compile('adam', 'mse')\n",
    "model.summary()"
   ]
  },
  {
   "cell_type": "markdown",
   "metadata": {},
   "source": [
    "__Q: Why `Output Shape = (None, 96, 342, 2)`?__\n",
    "\n",
    "__A:__ \n",
    "\n",
    "$$ height = \\lceil \\frac{i_v}{s_v} \\rceil = \\lceil \\frac{768}{8} \\rceil = 96 $$\n",
    "\n",
    "$$ width = \\lceil \\frac{i_h}{s_h} \\rceil = \\lceil \\frac{1024}{3} \\rceil = 342 $$\n",
    "\n",
    "$$ \\# of Output Channels = \\# of Convolutional Neurons in our single layer = 2 $$"
   ]
  },
  {
   "cell_type": "markdown",
   "metadata": {},
   "source": [
    "### Pooling layers\n"
   ]
  },
  {
   "cell_type": "code",
   "execution_count": 7,
   "metadata": {},
   "outputs": [],
   "source": [
    "from tensorflow.keras.layers import MaxPooling2D\n",
    "from tensorflow.keras.layers import AveragePooling2D\n",
    "from tensorflow.keras.layers import GlobalMaxPooling2D"
   ]
  },
  {
   "cell_type": "markdown",
   "metadata": {},
   "source": [
    "Let's add a `AveragePooling2D` layer by the `pool_size=(7,10)` in a simple network (containing the single layer in the previous step):"
   ]
  },
  {
   "cell_type": "code",
   "execution_count": 8,
   "metadata": {},
   "outputs": [
    {
     "name": "stdout",
     "output_type": "stream",
     "text": [
      "Model: \"sequential_4\"\n",
      "_________________________________________________________________\n",
      "Layer (type)                 Output Shape              Param #   \n",
      "=================================================================\n",
      "conv2d_4 (Conv2D)            (None, 96, 342, 2)        650       \n",
      "_________________________________________________________________\n",
      "average_pooling2d (AveragePo (None, 13, 34, 2)         0         \n",
      "=================================================================\n",
      "Total params: 650\n",
      "Trainable params: 650\n",
      "Non-trainable params: 0\n",
      "_________________________________________________________________\n"
     ]
    }
   ],
   "source": [
    "model = Sequential()\n",
    "model.add(Conv2D(2, (9, 12), \n",
    "                 kernel_initializer='RandomUniform', \n",
    "                 activation='relu',\n",
    "                input_shape=(768, 1024, 3),\n",
    "                padding = 'same',\n",
    "                strides = (8, 3)))\n",
    "model.add(AveragePooling2D(pool_size=(7,10)))\n",
    "model.compile('adam', 'mse')\n",
    "model.summary()"
   ]
  },
  {
   "cell_type": "markdown",
   "metadata": {},
   "source": [
    "Visualize both output images after `face` is covolved and pooled."
   ]
  },
  {
   "cell_type": "code",
   "execution_count": 10,
   "metadata": {},
   "outputs": [
    {
     "data": {
      "text/plain": [
       "<matplotlib.image.AxesImage at 0x2368379bb88>"
      ]
     },
     "execution_count": 10,
     "metadata": {},
     "output_type": "execute_result"
    },
    {
     "data": {
      "image/png": "[encoded data removed]",
      "text/plain": [
       "<Figure size 432x288 with 1 Axes>"
      ]
     },
     "metadata": {
      "needs_background": "light"
     },
     "output_type": "display_data"
    }
   ],
   "source": [
    "import matplotlib.pyplot as plt\n",
    "img_pred = model.predict(img_tensor)\n",
    "\n",
    "plt.imshow(img_pred[0, :, :, 0])"
   ]
  },
  {
   "cell_type": "code",
   "execution_count": 11,
   "metadata": {},
   "outputs": [
    {
     "data": {
      "text/plain": [
       "<matplotlib.image.AxesImage at 0x23683a80d08>"
      ]
     },
     "execution_count": 11,
     "metadata": {},
     "output_type": "execute_result"
    },
    {
     "data": {
      "image/png": "[encoded data removed]",
      "text/plain": [
       "<Figure size 432x288 with 1 Axes>"
      ]
     },
     "metadata": {
      "needs_background": "light"
     },
     "output_type": "display_data"
    }
   ],
   "source": [
    "plt.imshow(img_pred[0, :, :, 1])"
   ]
  }
 ],
 "metadata": {
  "kernelspec": {
   "display_name": "Python 3",
   "language": "python",
   "name": "python3"
  },
  "language_info": {
   "codemirror_mode": {
    "name": "ipython",
    "version": 3
   },
   "file_extension": ".py",
   "mimetype": "text/x-python",
   "name": "python",
   "nbconvert_exporter": "python",
   "pygments_lexer": "ipython3",
   "version": "3.7.4"
  }
 },
 "nbformat": 4,
 "nbformat_minor": 2
}
