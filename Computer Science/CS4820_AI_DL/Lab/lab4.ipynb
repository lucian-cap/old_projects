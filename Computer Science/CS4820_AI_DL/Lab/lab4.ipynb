{
 "cells": [
  {
   "cell_type": "markdown",
   "metadata": {},
   "source": [
    "# CS 4820\n",
    "# Lab 4: Understanding how a _feed-forward_ ANN works\n",
    "\n",
    "In this lab, we are going to manually calculate the outputs of all the neurons in a multi-layer feed_forwared NN and then build a Teras model to verify our calculations."
   ]
  },
  {
   "cell_type": "markdown",
   "metadata": {},
   "source": [
    "### 0. Manually calculate the outputs from all neurons"
   ]
  },
  {
   "cell_type": "code",
   "execution_count": 5,
   "metadata": {},
   "outputs": [
    {
     "name": "stdout",
     "output_type": "stream",
     "text": [
      "tf.Tensor([[0.57981789]], shape=(1, 1), dtype=float64)\n",
      "Inputs:\n",
      " [[0.5 1.2 0.7]] \n",
      "\n",
      "Weights:\n",
      " [[ 1  0]\n",
      " [-1  1]\n",
      " [ 0 -1]] \n",
      "\n",
      "Thetas (bias):\n",
      " [0.01 0.01] \n",
      "\n",
      "Output of hidden layer:\n",
      " [[-0.597982   0.4699452]] \n",
      "\n",
      "Weights from hidden layer to output layer:\n",
      " [[-1. ]\n",
      " [-0.8]] \n",
      "\n",
      "Theta (bias) of output layer:\n",
      " [0.1] \n",
      "\n",
      "Output of entire neural network:\n",
      " [[0.57981789]] \n",
      "\n"
     ]
    }
   ],
   "source": [
    "# Your code here\n",
    "import tensorflow as tf\n",
    "import numpy as np\n",
    "from tensorflow.keras.activations import tanh\n",
    "from tensorflow.keras.activations import sigmoid\n",
    "\n",
    "\n",
    "x = np.array([[.5, 1.2, 0.7]])\n",
    "\n",
    "w1 = np.array([[1, 0],\n",
    "              [-1, 1],\n",
    "              [0, -1]])\n",
    "\n",
    "theta1 = np.full((2,),0.01)\n",
    "\n",
    "output1 = tanh(np.matmul(x, w1) + theta1)\n",
    "\n",
    "w2 = np.array([[-1],\n",
    "               [-.8]])\n",
    "\n",
    "theta2 = np.full((1,), 0.1)\n",
    "\n",
    "output2 = sigmoid(np.matmul(output1, w2) + theta2)\n",
    "\n",
    "print(output2)\n",
    "\n",
    "print('Inputs:\\n', x, '\\n')\n",
    "print('Weights:\\n', w1, '\\n')\n",
    "print('Thetas (bias):\\n', theta1, '\\n')\n",
    "print('Output of hidden layer:\\n', output1.numpy(), '\\n')\n",
    "print('Weights from hidden layer to output layer:\\n', w2, '\\n')\n",
    "print('Theta (bias) of output layer:\\n', theta2, '\\n')\n",
    "print('Output of entire neural network:\\n', output2.numpy(), '\\n')"
   ]
  },
  {
   "cell_type": "markdown",
   "metadata": {},
   "source": [
    "### 1. Build a model in Keras to verify the calculations above"
   ]
  },
  {
   "cell_type": "code",
   "execution_count": 6,
   "metadata": {},
   "outputs": [
    {
     "name": "stdout",
     "output_type": "stream",
     "text": [
      "Karas Model Prediction of input:\n",
      " [[0.5 1.2 0.7]] \n",
      " is:\n",
      " [[0.5798179]]\n"
     ]
    }
   ],
   "source": [
    "# Your code here\n",
    "from tensorflow.keras.models import Sequential\n",
    "from tensorflow.keras.layers import Dense\n",
    "from tensorflow.keras.optimizers import Adam\n",
    "\n",
    "model = Sequential()\n",
    "model.add(Dense(2, input_shape=(3,), activation='tanh'))\n",
    "model.add(Dense(1, activation='sigmoid'))\n",
    "model.compile(Adam(lr=0.1),\n",
    "              loss='binary_crossentropy',\n",
    "              metrics=['accuracy'])\n",
    "\n",
    "model.layers[0].set_weights([w1,theta1])\n",
    "model.layers[1].set_weights([w2,theta2])\n",
    "\n",
    "print('Karas Model Prediction of input:\\n', x, '\\n is:\\n', model.predict(x))"
   ]
  }
 ],
 "metadata": {
  "kernelspec": {
   "display_name": "Python 3",
   "language": "python",
   "name": "python3"
  },
  "language_info": {
   "codemirror_mode": {
    "name": "ipython",
    "version": 3
   },
   "file_extension": ".py",
   "mimetype": "text/x-python",
   "name": "python",
   "nbconvert_exporter": "python",
   "pygments_lexer": "ipython3",
   "version": "3.7.4"
  }
 },
 "nbformat": 4,
 "nbformat_minor": 2
}
