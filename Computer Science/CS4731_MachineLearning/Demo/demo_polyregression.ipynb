{
  "nbformat": 4,
  "nbformat_minor": 0,
  "metadata": {
    "colab": {
      "name": "polynomial_regression.ipynb",
      "version": "0.3.2",
      "provenance": []
    },
    "kernelspec": {
      "name": "python3",
      "display_name": "Python 3"
    }
  },
  "cells": [
    {
      "cell_type": "code",
      "metadata": {
        "id": "VrqEegysEiMX",
        "colab_type": "code",
        "colab": {}
      },
      "source": [
        "w = np.random.randn(4) # ground truth model"
      ],
      "execution_count": 0,
      "outputs": []
    },
    {
      "cell_type": "markdown",
      "metadata": {
        "id": "zVlnupExEwUF",
        "colab_type": "text"
      },
      "source": [
        "$f(w, x) = w_0 + w_1*x + w_2*x^2 + w_3*x^3$"
      ]
    },
    {
      "cell_type": "code",
      "metadata": {
        "id": "Bq1ePdqyFB9k",
        "colab_type": "code",
        "outputId": "b3d72f62-2121-49bd-f6d4-2cd73957e01b",
        "colab": {
          "base_uri": "https://localhost:8080/",
          "height": 288
        }
      },
      "source": [
        "import numpy as np\n",
        "import matplotlib.pyplot as plt\n",
        "\n",
        "f = lambda w, x: w[0] + w[1]*x + w[2]*(x**2) + w[3]*(x**3)\n",
        "\n",
        "\n",
        "#f(w, np.array([3, 4]))\n",
        "\n",
        "dom = np.linspace(-2, 2, 50)\n",
        "val = f(w, dom) + np.random.randn(50)*4\n",
        "\n",
        "fig, ax = plt.subplots(1, 1)\n",
        "ax.plot(dom, val, 'bx')\n"
      ],
      "execution_count": 0,
      "outputs": [
        {
          "output_type": "execute_result",
          "data": {
            "text/plain": [
              "[<matplotlib.lines.Line2D at 0x7f4febe33588>]"
            ]
          },
          "metadata": {
            "tags": []
          },
          "execution_count": 57
        },
        {
          "output_type": "display_data",
          "data": {
            "image/png": "[encoded data removed]",
            "text/plain": [
              "<Figure size 432x288 with 1 Axes>"
            ]
          },
          "metadata": {
            "tags": []
          }
        }
      ]
    },
    {
      "cell_type": "code",
      "metadata": {
        "id": "tcFaklkPHI-e",
        "colab_type": "code",
        "outputId": "277fdd50-e2cf-46f9-a679-23ecd8e7aca6",
        "colab": {
          "base_uri": "https://localhost:8080/",
          "height": 35
        }
      },
      "source": [
        "w"
      ],
      "execution_count": 0,
      "outputs": [
        {
          "output_type": "execute_result",
          "data": {
            "text/plain": [
              "array([ 1.29348209,  2.44958752, -0.24290724, -1.03415931])"
            ]
          },
          "metadata": {
            "tags": []
          },
          "execution_count": 23
        }
      ]
    },
    {
      "cell_type": "code",
      "metadata": {
        "id": "-vC-EE1yHQ_3",
        "colab_type": "code",
        "outputId": "68996f7a-1c62-4704-e37b-6fe46ac4e042",
        "colab": {
          "base_uri": "https://localhost:8080/",
          "height": 287
        }
      },
      "source": [
        "w_guess = np.random.rand(4)\n",
        "\n",
        "\n",
        "fig, ax = plt.subplots(1, 1)\n",
        "\n",
        "val_guess = f(w_guess, dom)\n",
        "\n",
        "ax.plot(dom, val, 'bx')\n",
        "\n",
        "ax.plot(dom, val_guess, 'rx')\n",
        "\n",
        "\n"
      ],
      "execution_count": 0,
      "outputs": [
        {
          "output_type": "execute_result",
          "data": {
            "text/plain": [
              "[<matplotlib.lines.Line2D at 0x7f4fec42fbe0>]"
            ]
          },
          "metadata": {
            "tags": []
          },
          "execution_count": 58
        },
        {
          "output_type": "display_data",
          "data": {
            "image/png": "[encoded data removed]",
            "text/plain": [
              "<Figure size 432x288 with 1 Axes>"
            ]
          },
          "metadata": {
            "tags": []
          }
        }
      ]
    },
    {
      "cell_type": "code",
      "metadata": {
        "id": "SZtPyZ3XH5Bm",
        "colab_type": "code",
        "outputId": "d4a0c394-3ba9-4267-a694-8f5abd973d75",
        "colab": {
          "base_uri": "https://localhost:8080/",
          "height": 104
        }
      },
      "source": [
        "loss = lambda w: np.sum(np.power(val - f(w, dom), 2)) / np.size(val)\n",
        "\n",
        "import scipy.optimize\n",
        "\n",
        "res = scipy.optimize.fmin(func=loss, x0 = w_guess)\n",
        "\n",
        "res"
      ],
      "execution_count": 0,
      "outputs": [
        {
          "output_type": "stream",
          "text": [
            "Optimization terminated successfully.\n",
            "         Current function value: 14.269334\n",
            "         Iterations: 173\n",
            "         Function evaluations: 301\n"
          ],
          "name": "stdout"
        },
        {
          "output_type": "execute_result",
          "data": {
            "text/plain": [
              "array([ 0.85604494,  2.45875295,  0.17208651, -1.2185534 ])"
            ]
          },
          "metadata": {
            "tags": []
          },
          "execution_count": 59
        }
      ]
    },
    {
      "cell_type": "code",
      "metadata": {
        "id": "4QBGCDqUJr2P",
        "colab_type": "code",
        "outputId": "13af76be-8037-4717-f6d1-47178044cd11",
        "colab": {
          "base_uri": "https://localhost:8080/",
          "height": 287
        }
      },
      "source": [
        "\n",
        "dom = np.linspace(-2, 2, 50)\n",
        "dom1 = np.linspace(-5, 5, 50)\n",
        "fig, ax = plt.subplots(1, 1)\n",
        "\n",
        "val_real = f(w, dom1)\n",
        "val_guess = f(res, dom1)\n",
        "\n",
        "\n",
        "\n",
        "ax.plot(dom, val, 'bx')\n",
        "\n",
        "ax.plot(dom1, val_real, '-g')\n",
        "ax.plot(dom1, val_guess, '-r')"
      ],
      "execution_count": 75,
      "outputs": [
        {
          "output_type": "execute_result",
          "data": {
            "text/plain": [
              "[<matplotlib.lines.Line2D at 0x7f4feb71a668>]"
            ]
          },
          "metadata": {
            "tags": []
          },
          "execution_count": 75
        },
        {
          "output_type": "display_data",
          "data": {
            "image/png": "[encoded data removed]",
            "text/plain": [
              "<Figure size 432x288 with 1 Axes>"
            ]
          },
          "metadata": {
            "tags": []
          }
        }
      ]
    },
    {
      "cell_type": "code",
      "metadata": {
        "id": "PGGX6APMIVa-",
        "colab_type": "code",
        "outputId": "41a28693-140a-4416-c4bb-fa44e5706e0a",
        "colab": {
          "base_uri": "https://localhost:8080/",
          "height": 35
        }
      },
      "source": [
        "100**4"
      ],
      "execution_count": 0,
      "outputs": [
        {
          "output_type": "execute_result",
          "data": {
            "text/plain": [
              "100000000"
            ]
          },
          "metadata": {
            "tags": []
          },
          "execution_count": 29
        }
      ]
    }
  ]
}